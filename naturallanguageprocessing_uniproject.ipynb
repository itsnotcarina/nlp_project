{
  "nbformat": 4,
  "nbformat_minor": 0,
  "metadata": {
    "celltoolbar": "Slideshow",
    "colab": {
      "name": "naturallanguageprocessing_uniproject",
      "provenance": [],
      "collapsed_sections": []
    },
    "kernelspec": {
      "display_name": "Python 3",
      "language": "python",
      "name": "python3"
    },
    "language_info": {
      "codemirror_mode": {
        "name": "ipython",
        "version": 3
      },
      "file_extension": ".py",
      "mimetype": "text/x-python",
      "name": "python",
      "nbconvert_exporter": "python",
      "pygments_lexer": "ipython3",
      "version": "3.7.4"
    },
    "widgets": {
      "application/vnd.jupyter.widget-state+json": {
        "fa1bdd1804d74219b3e0799dc38d8228": {
          "model_module": "@jupyter-widgets/controls",
          "model_name": "HBoxModel",
          "state": {
            "_view_name": "HBoxView",
            "_dom_classes": [],
            "_model_name": "HBoxModel",
            "_view_module": "@jupyter-widgets/controls",
            "_model_module_version": "1.5.0",
            "_view_count": null,
            "_view_module_version": "1.5.0",
            "box_style": "",
            "layout": "IPY_MODEL_d140e9c825874b3597d9b4b7652d37b6",
            "_model_module": "@jupyter-widgets/controls",
            "children": [
              "IPY_MODEL_ca3b2a4ca27a4ce2a8c72d7109420d75",
              "IPY_MODEL_55de7a615c704b5d8948a1460c2d29bb"
            ]
          }
        },
        "d140e9c825874b3597d9b4b7652d37b6": {
          "model_module": "@jupyter-widgets/base",
          "model_name": "LayoutModel",
          "state": {
            "_view_name": "LayoutView",
            "grid_template_rows": null,
            "right": null,
            "justify_content": null,
            "_view_module": "@jupyter-widgets/base",
            "overflow": null,
            "_model_module_version": "1.2.0",
            "_view_count": null,
            "flex_flow": null,
            "width": null,
            "min_width": null,
            "border": null,
            "align_items": null,
            "bottom": null,
            "_model_module": "@jupyter-widgets/base",
            "top": null,
            "grid_column": null,
            "overflow_y": null,
            "overflow_x": null,
            "grid_auto_flow": null,
            "grid_area": null,
            "grid_template_columns": null,
            "flex": null,
            "_model_name": "LayoutModel",
            "justify_items": null,
            "grid_row": null,
            "max_height": null,
            "align_content": null,
            "visibility": null,
            "align_self": null,
            "height": null,
            "min_height": null,
            "padding": null,
            "grid_auto_rows": null,
            "grid_gap": null,
            "max_width": null,
            "order": null,
            "_view_module_version": "1.2.0",
            "grid_template_areas": null,
            "object_position": null,
            "object_fit": null,
            "grid_auto_columns": null,
            "margin": null,
            "display": null,
            "left": null
          }
        },
        "ca3b2a4ca27a4ce2a8c72d7109420d75": {
          "model_module": "@jupyter-widgets/controls",
          "model_name": "FloatProgressModel",
          "state": {
            "_view_name": "ProgressView",
            "style": "IPY_MODEL_18335388b257457d8b6471b83dc61504",
            "_dom_classes": [],
            "description": "Downloading: 100%",
            "_model_name": "FloatProgressModel",
            "bar_style": "success",
            "max": 433,
            "_view_module": "@jupyter-widgets/controls",
            "_model_module_version": "1.5.0",
            "value": 433,
            "_view_count": null,
            "_view_module_version": "1.5.0",
            "orientation": "horizontal",
            "min": 0,
            "description_tooltip": null,
            "_model_module": "@jupyter-widgets/controls",
            "layout": "IPY_MODEL_3a211115888a458f8a5b0866f907c8ef"
          }
        },
        "55de7a615c704b5d8948a1460c2d29bb": {
          "model_module": "@jupyter-widgets/controls",
          "model_name": "HTMLModel",
          "state": {
            "_view_name": "HTMLView",
            "style": "IPY_MODEL_42b716de69024a719bf5c996f11e1960",
            "_dom_classes": [],
            "description": "",
            "_model_name": "HTMLModel",
            "placeholder": "​",
            "_view_module": "@jupyter-widgets/controls",
            "_model_module_version": "1.5.0",
            "value": " 433/433 [00:29&lt;00:00, 14.7B/s]",
            "_view_count": null,
            "_view_module_version": "1.5.0",
            "description_tooltip": null,
            "_model_module": "@jupyter-widgets/controls",
            "layout": "IPY_MODEL_07cc40ae23f54cdea5d29b53a9ca2084"
          }
        },
        "18335388b257457d8b6471b83dc61504": {
          "model_module": "@jupyter-widgets/controls",
          "model_name": "ProgressStyleModel",
          "state": {
            "_view_name": "StyleView",
            "_model_name": "ProgressStyleModel",
            "description_width": "initial",
            "_view_module": "@jupyter-widgets/base",
            "_model_module_version": "1.5.0",
            "_view_count": null,
            "_view_module_version": "1.2.0",
            "bar_color": null,
            "_model_module": "@jupyter-widgets/controls"
          }
        },
        "3a211115888a458f8a5b0866f907c8ef": {
          "model_module": "@jupyter-widgets/base",
          "model_name": "LayoutModel",
          "state": {
            "_view_name": "LayoutView",
            "grid_template_rows": null,
            "right": null,
            "justify_content": null,
            "_view_module": "@jupyter-widgets/base",
            "overflow": null,
            "_model_module_version": "1.2.0",
            "_view_count": null,
            "flex_flow": null,
            "width": null,
            "min_width": null,
            "border": null,
            "align_items": null,
            "bottom": null,
            "_model_module": "@jupyter-widgets/base",
            "top": null,
            "grid_column": null,
            "overflow_y": null,
            "overflow_x": null,
            "grid_auto_flow": null,
            "grid_area": null,
            "grid_template_columns": null,
            "flex": null,
            "_model_name": "LayoutModel",
            "justify_items": null,
            "grid_row": null,
            "max_height": null,
            "align_content": null,
            "visibility": null,
            "align_self": null,
            "height": null,
            "min_height": null,
            "padding": null,
            "grid_auto_rows": null,
            "grid_gap": null,
            "max_width": null,
            "order": null,
            "_view_module_version": "1.2.0",
            "grid_template_areas": null,
            "object_position": null,
            "object_fit": null,
            "grid_auto_columns": null,
            "margin": null,
            "display": null,
            "left": null
          }
        },
        "42b716de69024a719bf5c996f11e1960": {
          "model_module": "@jupyter-widgets/controls",
          "model_name": "DescriptionStyleModel",
          "state": {
            "_view_name": "StyleView",
            "_model_name": "DescriptionStyleModel",
            "description_width": "",
            "_view_module": "@jupyter-widgets/base",
            "_model_module_version": "1.5.0",
            "_view_count": null,
            "_view_module_version": "1.2.0",
            "_model_module": "@jupyter-widgets/controls"
          }
        },
        "07cc40ae23f54cdea5d29b53a9ca2084": {
          "model_module": "@jupyter-widgets/base",
          "model_name": "LayoutModel",
          "state": {
            "_view_name": "LayoutView",
            "grid_template_rows": null,
            "right": null,
            "justify_content": null,
            "_view_module": "@jupyter-widgets/base",
            "overflow": null,
            "_model_module_version": "1.2.0",
            "_view_count": null,
            "flex_flow": null,
            "width": null,
            "min_width": null,
            "border": null,
            "align_items": null,
            "bottom": null,
            "_model_module": "@jupyter-widgets/base",
            "top": null,
            "grid_column": null,
            "overflow_y": null,
            "overflow_x": null,
            "grid_auto_flow": null,
            "grid_area": null,
            "grid_template_columns": null,
            "flex": null,
            "_model_name": "LayoutModel",
            "justify_items": null,
            "grid_row": null,
            "max_height": null,
            "align_content": null,
            "visibility": null,
            "align_self": null,
            "height": null,
            "min_height": null,
            "padding": null,
            "grid_auto_rows": null,
            "grid_gap": null,
            "max_width": null,
            "order": null,
            "_view_module_version": "1.2.0",
            "grid_template_areas": null,
            "object_position": null,
            "object_fit": null,
            "grid_auto_columns": null,
            "margin": null,
            "display": null,
            "left": null
          }
        },
        "e788fc4045e443f4a27243a0cd21ffb0": {
          "model_module": "@jupyter-widgets/controls",
          "model_name": "HBoxModel",
          "state": {
            "_view_name": "HBoxView",
            "_dom_classes": [],
            "_model_name": "HBoxModel",
            "_view_module": "@jupyter-widgets/controls",
            "_model_module_version": "1.5.0",
            "_view_count": null,
            "_view_module_version": "1.5.0",
            "box_style": "",
            "layout": "IPY_MODEL_5a3f8c9ca7f044838722a13360659628",
            "_model_module": "@jupyter-widgets/controls",
            "children": [
              "IPY_MODEL_4d618f8b89d940ad98ed1c3bbce1af96",
              "IPY_MODEL_abea2ab982964208b91b8917f3d26993"
            ]
          }
        },
        "5a3f8c9ca7f044838722a13360659628": {
          "model_module": "@jupyter-widgets/base",
          "model_name": "LayoutModel",
          "state": {
            "_view_name": "LayoutView",
            "grid_template_rows": null,
            "right": null,
            "justify_content": null,
            "_view_module": "@jupyter-widgets/base",
            "overflow": null,
            "_model_module_version": "1.2.0",
            "_view_count": null,
            "flex_flow": null,
            "width": null,
            "min_width": null,
            "border": null,
            "align_items": null,
            "bottom": null,
            "_model_module": "@jupyter-widgets/base",
            "top": null,
            "grid_column": null,
            "overflow_y": null,
            "overflow_x": null,
            "grid_auto_flow": null,
            "grid_area": null,
            "grid_template_columns": null,
            "flex": null,
            "_model_name": "LayoutModel",
            "justify_items": null,
            "grid_row": null,
            "max_height": null,
            "align_content": null,
            "visibility": null,
            "align_self": null,
            "height": null,
            "min_height": null,
            "padding": null,
            "grid_auto_rows": null,
            "grid_gap": null,
            "max_width": null,
            "order": null,
            "_view_module_version": "1.2.0",
            "grid_template_areas": null,
            "object_position": null,
            "object_fit": null,
            "grid_auto_columns": null,
            "margin": null,
            "display": null,
            "left": null
          }
        },
        "4d618f8b89d940ad98ed1c3bbce1af96": {
          "model_module": "@jupyter-widgets/controls",
          "model_name": "FloatProgressModel",
          "state": {
            "_view_name": "ProgressView",
            "style": "IPY_MODEL_e0d9599583fb4e4c99f1ba5e6075961d",
            "_dom_classes": [],
            "description": "Downloading: 100%",
            "_model_name": "FloatProgressModel",
            "bar_style": "success",
            "max": 231508,
            "_view_module": "@jupyter-widgets/controls",
            "_model_module_version": "1.5.0",
            "value": 231508,
            "_view_count": null,
            "_view_module_version": "1.5.0",
            "orientation": "horizontal",
            "min": 0,
            "description_tooltip": null,
            "_model_module": "@jupyter-widgets/controls",
            "layout": "IPY_MODEL_7d29274ec9d84e1ab8bf67cc58332f1a"
          }
        },
        "abea2ab982964208b91b8917f3d26993": {
          "model_module": "@jupyter-widgets/controls",
          "model_name": "HTMLModel",
          "state": {
            "_view_name": "HTMLView",
            "style": "IPY_MODEL_997ca65e3f4a43e69a33f06cc73e3324",
            "_dom_classes": [],
            "description": "",
            "_model_name": "HTMLModel",
            "placeholder": "​",
            "_view_module": "@jupyter-widgets/controls",
            "_model_module_version": "1.5.0",
            "value": " 232k/232k [00:02&lt;00:00, 112kB/s]",
            "_view_count": null,
            "_view_module_version": "1.5.0",
            "description_tooltip": null,
            "_model_module": "@jupyter-widgets/controls",
            "layout": "IPY_MODEL_988a394be70b406eab62c2da1d30518d"
          }
        },
        "e0d9599583fb4e4c99f1ba5e6075961d": {
          "model_module": "@jupyter-widgets/controls",
          "model_name": "ProgressStyleModel",
          "state": {
            "_view_name": "StyleView",
            "_model_name": "ProgressStyleModel",
            "description_width": "initial",
            "_view_module": "@jupyter-widgets/base",
            "_model_module_version": "1.5.0",
            "_view_count": null,
            "_view_module_version": "1.2.0",
            "bar_color": null,
            "_model_module": "@jupyter-widgets/controls"
          }
        },
        "7d29274ec9d84e1ab8bf67cc58332f1a": {
          "model_module": "@jupyter-widgets/base",
          "model_name": "LayoutModel",
          "state": {
            "_view_name": "LayoutView",
            "grid_template_rows": null,
            "right": null,
            "justify_content": null,
            "_view_module": "@jupyter-widgets/base",
            "overflow": null,
            "_model_module_version": "1.2.0",
            "_view_count": null,
            "flex_flow": null,
            "width": null,
            "min_width": null,
            "border": null,
            "align_items": null,
            "bottom": null,
            "_model_module": "@jupyter-widgets/base",
            "top": null,
            "grid_column": null,
            "overflow_y": null,
            "overflow_x": null,
            "grid_auto_flow": null,
            "grid_area": null,
            "grid_template_columns": null,
            "flex": null,
            "_model_name": "LayoutModel",
            "justify_items": null,
            "grid_row": null,
            "max_height": null,
            "align_content": null,
            "visibility": null,
            "align_self": null,
            "height": null,
            "min_height": null,
            "padding": null,
            "grid_auto_rows": null,
            "grid_gap": null,
            "max_width": null,
            "order": null,
            "_view_module_version": "1.2.0",
            "grid_template_areas": null,
            "object_position": null,
            "object_fit": null,
            "grid_auto_columns": null,
            "margin": null,
            "display": null,
            "left": null
          }
        },
        "997ca65e3f4a43e69a33f06cc73e3324": {
          "model_module": "@jupyter-widgets/controls",
          "model_name": "DescriptionStyleModel",
          "state": {
            "_view_name": "StyleView",
            "_model_name": "DescriptionStyleModel",
            "description_width": "",
            "_view_module": "@jupyter-widgets/base",
            "_model_module_version": "1.5.0",
            "_view_count": null,
            "_view_module_version": "1.2.0",
            "_model_module": "@jupyter-widgets/controls"
          }
        },
        "988a394be70b406eab62c2da1d30518d": {
          "model_module": "@jupyter-widgets/base",
          "model_name": "LayoutModel",
          "state": {
            "_view_name": "LayoutView",
            "grid_template_rows": null,
            "right": null,
            "justify_content": null,
            "_view_module": "@jupyter-widgets/base",
            "overflow": null,
            "_model_module_version": "1.2.0",
            "_view_count": null,
            "flex_flow": null,
            "width": null,
            "min_width": null,
            "border": null,
            "align_items": null,
            "bottom": null,
            "_model_module": "@jupyter-widgets/base",
            "top": null,
            "grid_column": null,
            "overflow_y": null,
            "overflow_x": null,
            "grid_auto_flow": null,
            "grid_area": null,
            "grid_template_columns": null,
            "flex": null,
            "_model_name": "LayoutModel",
            "justify_items": null,
            "grid_row": null,
            "max_height": null,
            "align_content": null,
            "visibility": null,
            "align_self": null,
            "height": null,
            "min_height": null,
            "padding": null,
            "grid_auto_rows": null,
            "grid_gap": null,
            "max_width": null,
            "order": null,
            "_view_module_version": "1.2.0",
            "grid_template_areas": null,
            "object_position": null,
            "object_fit": null,
            "grid_auto_columns": null,
            "margin": null,
            "display": null,
            "left": null
          }
        },
        "d055585820214cf7a1bae07ab8f88f59": {
          "model_module": "@jupyter-widgets/controls",
          "model_name": "HBoxModel",
          "state": {
            "_view_name": "HBoxView",
            "_dom_classes": [],
            "_model_name": "HBoxModel",
            "_view_module": "@jupyter-widgets/controls",
            "_model_module_version": "1.5.0",
            "_view_count": null,
            "_view_module_version": "1.5.0",
            "box_style": "",
            "layout": "IPY_MODEL_5b7cd25f3f284488b3445cbc391976ae",
            "_model_module": "@jupyter-widgets/controls",
            "children": [
              "IPY_MODEL_b635073871734edeafe4a563647478d2",
              "IPY_MODEL_61394ddedd88404089a56594390615ea"
            ]
          }
        },
        "5b7cd25f3f284488b3445cbc391976ae": {
          "model_module": "@jupyter-widgets/base",
          "model_name": "LayoutModel",
          "state": {
            "_view_name": "LayoutView",
            "grid_template_rows": null,
            "right": null,
            "justify_content": null,
            "_view_module": "@jupyter-widgets/base",
            "overflow": null,
            "_model_module_version": "1.2.0",
            "_view_count": null,
            "flex_flow": null,
            "width": null,
            "min_width": null,
            "border": null,
            "align_items": null,
            "bottom": null,
            "_model_module": "@jupyter-widgets/base",
            "top": null,
            "grid_column": null,
            "overflow_y": null,
            "overflow_x": null,
            "grid_auto_flow": null,
            "grid_area": null,
            "grid_template_columns": null,
            "flex": null,
            "_model_name": "LayoutModel",
            "justify_items": null,
            "grid_row": null,
            "max_height": null,
            "align_content": null,
            "visibility": null,
            "align_self": null,
            "height": null,
            "min_height": null,
            "padding": null,
            "grid_auto_rows": null,
            "grid_gap": null,
            "max_width": null,
            "order": null,
            "_view_module_version": "1.2.0",
            "grid_template_areas": null,
            "object_position": null,
            "object_fit": null,
            "grid_auto_columns": null,
            "margin": null,
            "display": null,
            "left": null
          }
        },
        "b635073871734edeafe4a563647478d2": {
          "model_module": "@jupyter-widgets/controls",
          "model_name": "FloatProgressModel",
          "state": {
            "_view_name": "ProgressView",
            "style": "IPY_MODEL_27297db1deb148db8d2fc6d48ecb9960",
            "_dom_classes": [],
            "description": "Downloading: 100%",
            "_model_name": "FloatProgressModel",
            "bar_style": "success",
            "max": 466062,
            "_view_module": "@jupyter-widgets/controls",
            "_model_module_version": "1.5.0",
            "value": 466062,
            "_view_count": null,
            "_view_module_version": "1.5.0",
            "orientation": "horizontal",
            "min": 0,
            "description_tooltip": null,
            "_model_module": "@jupyter-widgets/controls",
            "layout": "IPY_MODEL_262d84ba352f475f94df1f6874052cb8"
          }
        },
        "61394ddedd88404089a56594390615ea": {
          "model_module": "@jupyter-widgets/controls",
          "model_name": "HTMLModel",
          "state": {
            "_view_name": "HTMLView",
            "style": "IPY_MODEL_48251687d4b74ad1bec21684eec50e0b",
            "_dom_classes": [],
            "description": "",
            "_model_name": "HTMLModel",
            "placeholder": "​",
            "_view_module": "@jupyter-widgets/controls",
            "_model_module_version": "1.5.0",
            "value": " 466k/466k [00:25&lt;00:00, 18.5kB/s]",
            "_view_count": null,
            "_view_module_version": "1.5.0",
            "description_tooltip": null,
            "_model_module": "@jupyter-widgets/controls",
            "layout": "IPY_MODEL_556cfbf2f9c94d5ea34d354ef966aad7"
          }
        },
        "27297db1deb148db8d2fc6d48ecb9960": {
          "model_module": "@jupyter-widgets/controls",
          "model_name": "ProgressStyleModel",
          "state": {
            "_view_name": "StyleView",
            "_model_name": "ProgressStyleModel",
            "description_width": "initial",
            "_view_module": "@jupyter-widgets/base",
            "_model_module_version": "1.5.0",
            "_view_count": null,
            "_view_module_version": "1.2.0",
            "bar_color": null,
            "_model_module": "@jupyter-widgets/controls"
          }
        },
        "262d84ba352f475f94df1f6874052cb8": {
          "model_module": "@jupyter-widgets/base",
          "model_name": "LayoutModel",
          "state": {
            "_view_name": "LayoutView",
            "grid_template_rows": null,
            "right": null,
            "justify_content": null,
            "_view_module": "@jupyter-widgets/base",
            "overflow": null,
            "_model_module_version": "1.2.0",
            "_view_count": null,
            "flex_flow": null,
            "width": null,
            "min_width": null,
            "border": null,
            "align_items": null,
            "bottom": null,
            "_model_module": "@jupyter-widgets/base",
            "top": null,
            "grid_column": null,
            "overflow_y": null,
            "overflow_x": null,
            "grid_auto_flow": null,
            "grid_area": null,
            "grid_template_columns": null,
            "flex": null,
            "_model_name": "LayoutModel",
            "justify_items": null,
            "grid_row": null,
            "max_height": null,
            "align_content": null,
            "visibility": null,
            "align_self": null,
            "height": null,
            "min_height": null,
            "padding": null,
            "grid_auto_rows": null,
            "grid_gap": null,
            "max_width": null,
            "order": null,
            "_view_module_version": "1.2.0",
            "grid_template_areas": null,
            "object_position": null,
            "object_fit": null,
            "grid_auto_columns": null,
            "margin": null,
            "display": null,
            "left": null
          }
        },
        "48251687d4b74ad1bec21684eec50e0b": {
          "model_module": "@jupyter-widgets/controls",
          "model_name": "DescriptionStyleModel",
          "state": {
            "_view_name": "StyleView",
            "_model_name": "DescriptionStyleModel",
            "description_width": "",
            "_view_module": "@jupyter-widgets/base",
            "_model_module_version": "1.5.0",
            "_view_count": null,
            "_view_module_version": "1.2.0",
            "_model_module": "@jupyter-widgets/controls"
          }
        },
        "556cfbf2f9c94d5ea34d354ef966aad7": {
          "model_module": "@jupyter-widgets/base",
          "model_name": "LayoutModel",
          "state": {
            "_view_name": "LayoutView",
            "grid_template_rows": null,
            "right": null,
            "justify_content": null,
            "_view_module": "@jupyter-widgets/base",
            "overflow": null,
            "_model_module_version": "1.2.0",
            "_view_count": null,
            "flex_flow": null,
            "width": null,
            "min_width": null,
            "border": null,
            "align_items": null,
            "bottom": null,
            "_model_module": "@jupyter-widgets/base",
            "top": null,
            "grid_column": null,
            "overflow_y": null,
            "overflow_x": null,
            "grid_auto_flow": null,
            "grid_area": null,
            "grid_template_columns": null,
            "flex": null,
            "_model_name": "LayoutModel",
            "justify_items": null,
            "grid_row": null,
            "max_height": null,
            "align_content": null,
            "visibility": null,
            "align_self": null,
            "height": null,
            "min_height": null,
            "padding": null,
            "grid_auto_rows": null,
            "grid_gap": null,
            "max_width": null,
            "order": null,
            "_view_module_version": "1.2.0",
            "grid_template_areas": null,
            "object_position": null,
            "object_fit": null,
            "grid_auto_columns": null,
            "margin": null,
            "display": null,
            "left": null
          }
        },
        "2595f6bfe51d47eb8f0227c26cb0c9a8": {
          "model_module": "@jupyter-widgets/controls",
          "model_name": "HBoxModel",
          "state": {
            "_view_name": "HBoxView",
            "_dom_classes": [],
            "_model_name": "HBoxModel",
            "_view_module": "@jupyter-widgets/controls",
            "_model_module_version": "1.5.0",
            "_view_count": null,
            "_view_module_version": "1.5.0",
            "box_style": "",
            "layout": "IPY_MODEL_944d376db1b4471bac3cbc7125cb2a49",
            "_model_module": "@jupyter-widgets/controls",
            "children": [
              "IPY_MODEL_094fc25d65074da49e4f418ebc12f7a1",
              "IPY_MODEL_9504a31822d945bf97adb0b5dd182f6c"
            ]
          }
        },
        "944d376db1b4471bac3cbc7125cb2a49": {
          "model_module": "@jupyter-widgets/base",
          "model_name": "LayoutModel",
          "state": {
            "_view_name": "LayoutView",
            "grid_template_rows": null,
            "right": null,
            "justify_content": null,
            "_view_module": "@jupyter-widgets/base",
            "overflow": null,
            "_model_module_version": "1.2.0",
            "_view_count": null,
            "flex_flow": null,
            "width": null,
            "min_width": null,
            "border": null,
            "align_items": null,
            "bottom": null,
            "_model_module": "@jupyter-widgets/base",
            "top": null,
            "grid_column": null,
            "overflow_y": null,
            "overflow_x": null,
            "grid_auto_flow": null,
            "grid_area": null,
            "grid_template_columns": null,
            "flex": null,
            "_model_name": "LayoutModel",
            "justify_items": null,
            "grid_row": null,
            "max_height": null,
            "align_content": null,
            "visibility": null,
            "align_self": null,
            "height": null,
            "min_height": null,
            "padding": null,
            "grid_auto_rows": null,
            "grid_gap": null,
            "max_width": null,
            "order": null,
            "_view_module_version": "1.2.0",
            "grid_template_areas": null,
            "object_position": null,
            "object_fit": null,
            "grid_auto_columns": null,
            "margin": null,
            "display": null,
            "left": null
          }
        },
        "094fc25d65074da49e4f418ebc12f7a1": {
          "model_module": "@jupyter-widgets/controls",
          "model_name": "FloatProgressModel",
          "state": {
            "_view_name": "ProgressView",
            "style": "IPY_MODEL_b4aee4b33da24f999feecea3090a656d",
            "_dom_classes": [],
            "description": "Downloading: 100%",
            "_model_name": "FloatProgressModel",
            "bar_style": "success",
            "max": 28,
            "_view_module": "@jupyter-widgets/controls",
            "_model_module_version": "1.5.0",
            "value": 28,
            "_view_count": null,
            "_view_module_version": "1.5.0",
            "orientation": "horizontal",
            "min": 0,
            "description_tooltip": null,
            "_model_module": "@jupyter-widgets/controls",
            "layout": "IPY_MODEL_cee95d2d0e0c4255932a0e0ac16a03d3"
          }
        },
        "9504a31822d945bf97adb0b5dd182f6c": {
          "model_module": "@jupyter-widgets/controls",
          "model_name": "HTMLModel",
          "state": {
            "_view_name": "HTMLView",
            "style": "IPY_MODEL_0c892931be664cb2874521154e1f38c4",
            "_dom_classes": [],
            "description": "",
            "_model_name": "HTMLModel",
            "placeholder": "​",
            "_view_module": "@jupyter-widgets/controls",
            "_model_module_version": "1.5.0",
            "value": " 28.0/28.0 [00:01&lt;00:00, 15.4B/s]",
            "_view_count": null,
            "_view_module_version": "1.5.0",
            "description_tooltip": null,
            "_model_module": "@jupyter-widgets/controls",
            "layout": "IPY_MODEL_de297bbe7b834522a9b8f5e40db3304f"
          }
        },
        "b4aee4b33da24f999feecea3090a656d": {
          "model_module": "@jupyter-widgets/controls",
          "model_name": "ProgressStyleModel",
          "state": {
            "_view_name": "StyleView",
            "_model_name": "ProgressStyleModel",
            "description_width": "initial",
            "_view_module": "@jupyter-widgets/base",
            "_model_module_version": "1.5.0",
            "_view_count": null,
            "_view_module_version": "1.2.0",
            "bar_color": null,
            "_model_module": "@jupyter-widgets/controls"
          }
        },
        "cee95d2d0e0c4255932a0e0ac16a03d3": {
          "model_module": "@jupyter-widgets/base",
          "model_name": "LayoutModel",
          "state": {
            "_view_name": "LayoutView",
            "grid_template_rows": null,
            "right": null,
            "justify_content": null,
            "_view_module": "@jupyter-widgets/base",
            "overflow": null,
            "_model_module_version": "1.2.0",
            "_view_count": null,
            "flex_flow": null,
            "width": null,
            "min_width": null,
            "border": null,
            "align_items": null,
            "bottom": null,
            "_model_module": "@jupyter-widgets/base",
            "top": null,
            "grid_column": null,
            "overflow_y": null,
            "overflow_x": null,
            "grid_auto_flow": null,
            "grid_area": null,
            "grid_template_columns": null,
            "flex": null,
            "_model_name": "LayoutModel",
            "justify_items": null,
            "grid_row": null,
            "max_height": null,
            "align_content": null,
            "visibility": null,
            "align_self": null,
            "height": null,
            "min_height": null,
            "padding": null,
            "grid_auto_rows": null,
            "grid_gap": null,
            "max_width": null,
            "order": null,
            "_view_module_version": "1.2.0",
            "grid_template_areas": null,
            "object_position": null,
            "object_fit": null,
            "grid_auto_columns": null,
            "margin": null,
            "display": null,
            "left": null
          }
        },
        "0c892931be664cb2874521154e1f38c4": {
          "model_module": "@jupyter-widgets/controls",
          "model_name": "DescriptionStyleModel",
          "state": {
            "_view_name": "StyleView",
            "_model_name": "DescriptionStyleModel",
            "description_width": "",
            "_view_module": "@jupyter-widgets/base",
            "_model_module_version": "1.5.0",
            "_view_count": null,
            "_view_module_version": "1.2.0",
            "_model_module": "@jupyter-widgets/controls"
          }
        },
        "de297bbe7b834522a9b8f5e40db3304f": {
          "model_module": "@jupyter-widgets/base",
          "model_name": "LayoutModel",
          "state": {
            "_view_name": "LayoutView",
            "grid_template_rows": null,
            "right": null,
            "justify_content": null,
            "_view_module": "@jupyter-widgets/base",
            "overflow": null,
            "_model_module_version": "1.2.0",
            "_view_count": null,
            "flex_flow": null,
            "width": null,
            "min_width": null,
            "border": null,
            "align_items": null,
            "bottom": null,
            "_model_module": "@jupyter-widgets/base",
            "top": null,
            "grid_column": null,
            "overflow_y": null,
            "overflow_x": null,
            "grid_auto_flow": null,
            "grid_area": null,
            "grid_template_columns": null,
            "flex": null,
            "_model_name": "LayoutModel",
            "justify_items": null,
            "grid_row": null,
            "max_height": null,
            "align_content": null,
            "visibility": null,
            "align_self": null,
            "height": null,
            "min_height": null,
            "padding": null,
            "grid_auto_rows": null,
            "grid_gap": null,
            "max_width": null,
            "order": null,
            "_view_module_version": "1.2.0",
            "grid_template_areas": null,
            "object_position": null,
            "object_fit": null,
            "grid_auto_columns": null,
            "margin": null,
            "display": null,
            "left": null
          }
        },
        "67e4460d1b8e45ce950c62f22f3b5aae": {
          "model_module": "@jupyter-widgets/controls",
          "model_name": "HBoxModel",
          "state": {
            "_view_name": "HBoxView",
            "_dom_classes": [],
            "_model_name": "HBoxModel",
            "_view_module": "@jupyter-widgets/controls",
            "_model_module_version": "1.5.0",
            "_view_count": null,
            "_view_module_version": "1.5.0",
            "box_style": "",
            "layout": "IPY_MODEL_0e30a6d1f11c4af1a7a847a1cb10d767",
            "_model_module": "@jupyter-widgets/controls",
            "children": [
              "IPY_MODEL_64964b068e144d4c9ab31885200ab4d5",
              "IPY_MODEL_fca64bbc196c4b3994a381793d877042"
            ]
          }
        },
        "0e30a6d1f11c4af1a7a847a1cb10d767": {
          "model_module": "@jupyter-widgets/base",
          "model_name": "LayoutModel",
          "state": {
            "_view_name": "LayoutView",
            "grid_template_rows": null,
            "right": null,
            "justify_content": null,
            "_view_module": "@jupyter-widgets/base",
            "overflow": null,
            "_model_module_version": "1.2.0",
            "_view_count": null,
            "flex_flow": null,
            "width": null,
            "min_width": null,
            "border": null,
            "align_items": null,
            "bottom": null,
            "_model_module": "@jupyter-widgets/base",
            "top": null,
            "grid_column": null,
            "overflow_y": null,
            "overflow_x": null,
            "grid_auto_flow": null,
            "grid_area": null,
            "grid_template_columns": null,
            "flex": null,
            "_model_name": "LayoutModel",
            "justify_items": null,
            "grid_row": null,
            "max_height": null,
            "align_content": null,
            "visibility": null,
            "align_self": null,
            "height": null,
            "min_height": null,
            "padding": null,
            "grid_auto_rows": null,
            "grid_gap": null,
            "max_width": null,
            "order": null,
            "_view_module_version": "1.2.0",
            "grid_template_areas": null,
            "object_position": null,
            "object_fit": null,
            "grid_auto_columns": null,
            "margin": null,
            "display": null,
            "left": null
          }
        },
        "64964b068e144d4c9ab31885200ab4d5": {
          "model_module": "@jupyter-widgets/controls",
          "model_name": "FloatProgressModel",
          "state": {
            "_view_name": "ProgressView",
            "style": "IPY_MODEL_26078cde7be24ca79bfc9f52a2bf3dba",
            "_dom_classes": [],
            "description": "Downloading: 100%",
            "_model_name": "FloatProgressModel",
            "bar_style": "success",
            "max": 440473133,
            "_view_module": "@jupyter-widgets/controls",
            "_model_module_version": "1.5.0",
            "value": 440473133,
            "_view_count": null,
            "_view_module_version": "1.5.0",
            "orientation": "horizontal",
            "min": 0,
            "description_tooltip": null,
            "_model_module": "@jupyter-widgets/controls",
            "layout": "IPY_MODEL_80a351eda5b74fbd8c2bbf7f6e410fb2"
          }
        },
        "fca64bbc196c4b3994a381793d877042": {
          "model_module": "@jupyter-widgets/controls",
          "model_name": "HTMLModel",
          "state": {
            "_view_name": "HTMLView",
            "style": "IPY_MODEL_dfa421f2b50a440a9b3e36c1f06d85cf",
            "_dom_classes": [],
            "description": "",
            "_model_name": "HTMLModel",
            "placeholder": "​",
            "_view_module": "@jupyter-widgets/controls",
            "_model_module_version": "1.5.0",
            "value": " 440M/440M [00:20&lt;00:00, 22.0MB/s]",
            "_view_count": null,
            "_view_module_version": "1.5.0",
            "description_tooltip": null,
            "_model_module": "@jupyter-widgets/controls",
            "layout": "IPY_MODEL_23a3e1a3404e4b89aaa59644dbf3704e"
          }
        },
        "26078cde7be24ca79bfc9f52a2bf3dba": {
          "model_module": "@jupyter-widgets/controls",
          "model_name": "ProgressStyleModel",
          "state": {
            "_view_name": "StyleView",
            "_model_name": "ProgressStyleModel",
            "description_width": "initial",
            "_view_module": "@jupyter-widgets/base",
            "_model_module_version": "1.5.0",
            "_view_count": null,
            "_view_module_version": "1.2.0",
            "bar_color": null,
            "_model_module": "@jupyter-widgets/controls"
          }
        },
        "80a351eda5b74fbd8c2bbf7f6e410fb2": {
          "model_module": "@jupyter-widgets/base",
          "model_name": "LayoutModel",
          "state": {
            "_view_name": "LayoutView",
            "grid_template_rows": null,
            "right": null,
            "justify_content": null,
            "_view_module": "@jupyter-widgets/base",
            "overflow": null,
            "_model_module_version": "1.2.0",
            "_view_count": null,
            "flex_flow": null,
            "width": null,
            "min_width": null,
            "border": null,
            "align_items": null,
            "bottom": null,
            "_model_module": "@jupyter-widgets/base",
            "top": null,
            "grid_column": null,
            "overflow_y": null,
            "overflow_x": null,
            "grid_auto_flow": null,
            "grid_area": null,
            "grid_template_columns": null,
            "flex": null,
            "_model_name": "LayoutModel",
            "justify_items": null,
            "grid_row": null,
            "max_height": null,
            "align_content": null,
            "visibility": null,
            "align_self": null,
            "height": null,
            "min_height": null,
            "padding": null,
            "grid_auto_rows": null,
            "grid_gap": null,
            "max_width": null,
            "order": null,
            "_view_module_version": "1.2.0",
            "grid_template_areas": null,
            "object_position": null,
            "object_fit": null,
            "grid_auto_columns": null,
            "margin": null,
            "display": null,
            "left": null
          }
        },
        "dfa421f2b50a440a9b3e36c1f06d85cf": {
          "model_module": "@jupyter-widgets/controls",
          "model_name": "DescriptionStyleModel",
          "state": {
            "_view_name": "StyleView",
            "_model_name": "DescriptionStyleModel",
            "description_width": "",
            "_view_module": "@jupyter-widgets/base",
            "_model_module_version": "1.5.0",
            "_view_count": null,
            "_view_module_version": "1.2.0",
            "_model_module": "@jupyter-widgets/controls"
          }
        },
        "23a3e1a3404e4b89aaa59644dbf3704e": {
          "model_module": "@jupyter-widgets/base",
          "model_name": "LayoutModel",
          "state": {
            "_view_name": "LayoutView",
            "grid_template_rows": null,
            "right": null,
            "justify_content": null,
            "_view_module": "@jupyter-widgets/base",
            "overflow": null,
            "_model_module_version": "1.2.0",
            "_view_count": null,
            "flex_flow": null,
            "width": null,
            "min_width": null,
            "border": null,
            "align_items": null,
            "bottom": null,
            "_model_module": "@jupyter-widgets/base",
            "top": null,
            "grid_column": null,
            "overflow_y": null,
            "overflow_x": null,
            "grid_auto_flow": null,
            "grid_area": null,
            "grid_template_columns": null,
            "flex": null,
            "_model_name": "LayoutModel",
            "justify_items": null,
            "grid_row": null,
            "max_height": null,
            "align_content": null,
            "visibility": null,
            "align_self": null,
            "height": null,
            "min_height": null,
            "padding": null,
            "grid_auto_rows": null,
            "grid_gap": null,
            "max_width": null,
            "order": null,
            "_view_module_version": "1.2.0",
            "grid_template_areas": null,
            "object_position": null,
            "object_fit": null,
            "grid_auto_columns": null,
            "margin": null,
            "display": null,
            "left": null
          }
        }
      }
    }
  },
  "cells": [
    {
      "cell_type": "markdown",
      "metadata": {
        "id": "38oUb7Gzv2M5"
      },
      "source": [
        "## Natural Language Processing\n",
        "This project includes features exploration, logistic regression, TFIDF, text similarity, RNN.\n"
      ]
    },
    {
      "cell_type": "code",
      "metadata": {
        "id": "3AR9Ye5KttUt"
      },
      "source": [
        "# Imports \n",
        "import matplotlib.pyplot as plt\n",
        "import numpy as np\n",
        "import pandas as pd\n",
        "import random\n",
        "import re\n",
        "import sklearn\n",
        "import string\n",
        "from sklearn.feature_extraction.text import TfidfVectorizer\n",
        "%matplotlib inline\n",
        "\n",
        "# Set the random seed for reproducibility\n",
        "RAND_SEED = 27\n",
        "random.seed(RAND_SEED)\n",
        "np.random.seed(RAND_SEED)"
      ],
      "execution_count": null,
      "outputs": []
    },
    {
      "cell_type": "code",
      "metadata": {
        "colab": {
          "base_uri": "https://localhost:8080/"
        },
        "id": "gP05BXXigv1-",
        "outputId": "afd17177-6795-44af-a9ae-a66ab2c1d73b"
      },
      "source": [
        "from sklearn.metrics.pairwise import cosine_similarity\n",
        "from sklearn.linear_model import LogisticRegression\n",
        "from sklearn.metrics import classification_report\n",
        "from spacy.lang.en.stop_words import STOP_WORDS\n",
        "from sklearn.metrics import confusion_matrix\n",
        "from sklearn.metrics import accuracy_score\n",
        "from tensorflow.keras import Sequential\n",
        "from keras import backend as K\n",
        "import matplotlib as mpl\n",
        "from tensorflow.keras import layers\n",
        "import itertools\n",
        "import keras\n",
        "import spacy\n",
        "import os\n",
        "import nltk\n",
        "nltk.download('punkt')\n",
        "\n",
        "\n",
        "# Flag to let us know if we're currently running in Google Colab or locally\n",
        "import sys\n",
        "IN_COLAB = 'google.colab' in sys.modules\n",
        "\n",
        "# Ensure we have compatible tensorflow and keras versions\n",
        "!pip install keras==2.3.1\n",
        "!pip install tensorflow==2.2.0"
      ],
      "execution_count": null,
      "outputs": [
        {
          "output_type": "stream",
          "text": [
            "[nltk_data] Downloading package punkt to /root/nltk_data...\n",
            "[nltk_data]   Package punkt is already up-to-date!\n",
            "Requirement already satisfied: keras==2.3.1 in /usr/local/lib/python3.7/dist-packages (2.3.1)\n",
            "Requirement already satisfied: six>=1.9.0 in /usr/local/lib/python3.7/dist-packages (from keras==2.3.1) (1.15.0)\n",
            "Requirement already satisfied: keras-preprocessing>=1.0.5 in /usr/local/lib/python3.7/dist-packages (from keras==2.3.1) (1.1.2)\n",
            "Requirement already satisfied: numpy>=1.9.1 in /usr/local/lib/python3.7/dist-packages (from keras==2.3.1) (1.19.5)\n",
            "Requirement already satisfied: scipy>=0.14 in /usr/local/lib/python3.7/dist-packages (from keras==2.3.1) (1.4.1)\n",
            "Requirement already satisfied: pyyaml in /usr/local/lib/python3.7/dist-packages (from keras==2.3.1) (3.13)\n",
            "Requirement already satisfied: h5py in /usr/local/lib/python3.7/dist-packages (from keras==2.3.1) (2.10.0)\n",
            "Requirement already satisfied: keras-applications>=1.0.6 in /usr/local/lib/python3.7/dist-packages (from keras==2.3.1) (1.0.8)\n",
            "Requirement already satisfied: tensorflow==2.2.0 in /usr/local/lib/python3.7/dist-packages (2.2.0)\n",
            "Requirement already satisfied: grpcio>=1.8.6 in /usr/local/lib/python3.7/dist-packages (from tensorflow==2.2.0) (1.32.0)\n",
            "Requirement already satisfied: gast==0.3.3 in /usr/local/lib/python3.7/dist-packages (from tensorflow==2.2.0) (0.3.3)\n",
            "Requirement already satisfied: protobuf>=3.8.0 in /usr/local/lib/python3.7/dist-packages (from tensorflow==2.2.0) (3.12.4)\n",
            "Requirement already satisfied: numpy<2.0,>=1.16.0 in /usr/local/lib/python3.7/dist-packages (from tensorflow==2.2.0) (1.19.5)\n",
            "Requirement already satisfied: tensorboard<2.3.0,>=2.2.0 in /usr/local/lib/python3.7/dist-packages (from tensorflow==2.2.0) (2.2.2)\n",
            "Requirement already satisfied: scipy==1.4.1; python_version >= \"3\" in /usr/local/lib/python3.7/dist-packages (from tensorflow==2.2.0) (1.4.1)\n",
            "Requirement already satisfied: astunparse==1.6.3 in /usr/local/lib/python3.7/dist-packages (from tensorflow==2.2.0) (1.6.3)\n",
            "Requirement already satisfied: wrapt>=1.11.1 in /usr/local/lib/python3.7/dist-packages (from tensorflow==2.2.0) (1.12.1)\n",
            "Requirement already satisfied: six>=1.12.0 in /usr/local/lib/python3.7/dist-packages (from tensorflow==2.2.0) (1.15.0)\n",
            "Requirement already satisfied: opt-einsum>=2.3.2 in /usr/local/lib/python3.7/dist-packages (from tensorflow==2.2.0) (3.3.0)\n",
            "Requirement already satisfied: google-pasta>=0.1.8 in /usr/local/lib/python3.7/dist-packages (from tensorflow==2.2.0) (0.2.0)\n",
            "Requirement already satisfied: tensorflow-estimator<2.3.0,>=2.2.0 in /usr/local/lib/python3.7/dist-packages (from tensorflow==2.2.0) (2.2.0)\n",
            "Requirement already satisfied: termcolor>=1.1.0 in /usr/local/lib/python3.7/dist-packages (from tensorflow==2.2.0) (1.1.0)\n",
            "Requirement already satisfied: wheel>=0.26; python_version >= \"3\" in /usr/local/lib/python3.7/dist-packages (from tensorflow==2.2.0) (0.36.2)\n",
            "Requirement already satisfied: keras-preprocessing>=1.1.0 in /usr/local/lib/python3.7/dist-packages (from tensorflow==2.2.0) (1.1.2)\n",
            "Requirement already satisfied: absl-py>=0.7.0 in /usr/local/lib/python3.7/dist-packages (from tensorflow==2.2.0) (0.10.0)\n",
            "Requirement already satisfied: h5py<2.11.0,>=2.10.0 in /usr/local/lib/python3.7/dist-packages (from tensorflow==2.2.0) (2.10.0)\n",
            "Requirement already satisfied: setuptools in /usr/local/lib/python3.7/dist-packages (from protobuf>=3.8.0->tensorflow==2.2.0) (54.1.2)\n",
            "Requirement already satisfied: requests<3,>=2.21.0 in /usr/local/lib/python3.7/dist-packages (from tensorboard<2.3.0,>=2.2.0->tensorflow==2.2.0) (2.23.0)\n",
            "Requirement already satisfied: tensorboard-plugin-wit>=1.6.0 in /usr/local/lib/python3.7/dist-packages (from tensorboard<2.3.0,>=2.2.0->tensorflow==2.2.0) (1.8.0)\n",
            "Requirement already satisfied: markdown>=2.6.8 in /usr/local/lib/python3.7/dist-packages (from tensorboard<2.3.0,>=2.2.0->tensorflow==2.2.0) (3.3.4)\n",
            "Requirement already satisfied: werkzeug>=0.11.15 in /usr/local/lib/python3.7/dist-packages (from tensorboard<2.3.0,>=2.2.0->tensorflow==2.2.0) (1.0.1)\n",
            "Requirement already satisfied: google-auth<2,>=1.6.3 in /usr/local/lib/python3.7/dist-packages (from tensorboard<2.3.0,>=2.2.0->tensorflow==2.2.0) (1.27.1)\n",
            "Requirement already satisfied: google-auth-oauthlib<0.5,>=0.4.1 in /usr/local/lib/python3.7/dist-packages (from tensorboard<2.3.0,>=2.2.0->tensorflow==2.2.0) (0.4.3)\n",
            "Requirement already satisfied: chardet<4,>=3.0.2 in /usr/local/lib/python3.7/dist-packages (from requests<3,>=2.21.0->tensorboard<2.3.0,>=2.2.0->tensorflow==2.2.0) (3.0.4)\n",
            "Requirement already satisfied: urllib3!=1.25.0,!=1.25.1,<1.26,>=1.21.1 in /usr/local/lib/python3.7/dist-packages (from requests<3,>=2.21.0->tensorboard<2.3.0,>=2.2.0->tensorflow==2.2.0) (1.25.11)\n",
            "Requirement already satisfied: idna<3,>=2.5 in /usr/local/lib/python3.7/dist-packages (from requests<3,>=2.21.0->tensorboard<2.3.0,>=2.2.0->tensorflow==2.2.0) (2.10)\n",
            "Requirement already satisfied: certifi>=2017.4.17 in /usr/local/lib/python3.7/dist-packages (from requests<3,>=2.21.0->tensorboard<2.3.0,>=2.2.0->tensorflow==2.2.0) (2020.12.5)\n",
            "Requirement already satisfied: importlib-metadata; python_version < \"3.8\" in /usr/local/lib/python3.7/dist-packages (from markdown>=2.6.8->tensorboard<2.3.0,>=2.2.0->tensorflow==2.2.0) (3.7.2)\n",
            "Requirement already satisfied: cachetools<5.0,>=2.0.0 in /usr/local/lib/python3.7/dist-packages (from google-auth<2,>=1.6.3->tensorboard<2.3.0,>=2.2.0->tensorflow==2.2.0) (4.2.1)\n",
            "Requirement already satisfied: pyasn1-modules>=0.2.1 in /usr/local/lib/python3.7/dist-packages (from google-auth<2,>=1.6.3->tensorboard<2.3.0,>=2.2.0->tensorflow==2.2.0) (0.2.8)\n",
            "Requirement already satisfied: rsa<5,>=3.1.4; python_version >= \"3.6\" in /usr/local/lib/python3.7/dist-packages (from google-auth<2,>=1.6.3->tensorboard<2.3.0,>=2.2.0->tensorflow==2.2.0) (4.7.2)\n",
            "Requirement already satisfied: requests-oauthlib>=0.7.0 in /usr/local/lib/python3.7/dist-packages (from google-auth-oauthlib<0.5,>=0.4.1->tensorboard<2.3.0,>=2.2.0->tensorflow==2.2.0) (1.3.0)\n",
            "Requirement already satisfied: zipp>=0.5 in /usr/local/lib/python3.7/dist-packages (from importlib-metadata; python_version < \"3.8\"->markdown>=2.6.8->tensorboard<2.3.0,>=2.2.0->tensorflow==2.2.0) (3.4.1)\n",
            "Requirement already satisfied: typing-extensions>=3.6.4; python_version < \"3.8\" in /usr/local/lib/python3.7/dist-packages (from importlib-metadata; python_version < \"3.8\"->markdown>=2.6.8->tensorboard<2.3.0,>=2.2.0->tensorflow==2.2.0) (3.7.4.3)\n",
            "Requirement already satisfied: pyasn1<0.5.0,>=0.4.6 in /usr/local/lib/python3.7/dist-packages (from pyasn1-modules>=0.2.1->google-auth<2,>=1.6.3->tensorboard<2.3.0,>=2.2.0->tensorflow==2.2.0) (0.4.8)\n",
            "Requirement already satisfied: oauthlib>=3.0.0 in /usr/local/lib/python3.7/dist-packages (from requests-oauthlib>=0.7.0->google-auth-oauthlib<0.5,>=0.4.1->tensorboard<2.3.0,>=2.2.0->tensorflow==2.2.0) (3.1.0)\n"
          ],
          "name": "stdout"
        }
      ]
    },
    {
      "cell_type": "markdown",
      "metadata": {
        "id": "K3uq9tNPJJM9"
      },
      "source": [
        "<hr />"
      ]
    },
    {
      "cell_type": "markdown",
      "metadata": {
        "id": "RVqYcfRlz3cG"
      },
      "source": [
        "## Feature Exploration\n",
        "\n"
      ]
    },
    {
      "cell_type": "code",
      "metadata": {
        "colab": {
          "base_uri": "https://localhost:8080/",
          "height": 359
        },
        "id": "2q2YRPFO-lO7",
        "outputId": "7f4dbf5a-2982-4665-c7f8-5065583c2c19"
      },
      "source": [
        "# This cell loads the SST-2 dataset [do not change!]\n",
        "path_train = \"https://drive.google.com/uc?id=1IsO72aOzjx-6eu2Z5VOaXZBShatNxBaj\"\n",
        "path_dev = \"https://drive.google.com/uc?id=1tUiTEzR14wmYTdr0mYEKaDbj9-pN05-u\"\n",
        "\n",
        "# Load in the train and dev data\n",
        "df_train = pd.read_csv(path_train, sep='\\t')\n",
        "df_dev = pd.read_csv(path_dev, sep='\\t')\n",
        "# We'll split df_dev into a validation and test set for the purposes of this assignment\n",
        "df_dev, df_test = df_dev[:400], df_dev[400:]\n",
        "\n",
        "# Load in the second set of train and dev data\n",
        "df_train1 = pd.read_csv(path_train, sep='\\t')\n",
        "df_dev1 = pd.read_csv(path_dev, sep='\\t')\n",
        "# We'll split df_dev into a validation and test set for the purposes of this assignment\n",
        "df_dev1, df_test1 = df_dev1[:400], df_dev1[400:]\n",
        "\n",
        "# Quick look at the training data\n",
        "pd.set_option('max_colwidth', 1000)\n",
        "df_train[:10]"
      ],
      "execution_count": null,
      "outputs": [
        {
          "output_type": "execute_result",
          "data": {
            "text/html": [
              "<div>\n",
              "<style scoped>\n",
              "    .dataframe tbody tr th:only-of-type {\n",
              "        vertical-align: middle;\n",
              "    }\n",
              "\n",
              "    .dataframe tbody tr th {\n",
              "        vertical-align: top;\n",
              "    }\n",
              "\n",
              "    .dataframe thead th {\n",
              "        text-align: right;\n",
              "    }\n",
              "</style>\n",
              "<table border=\"1\" class=\"dataframe\">\n",
              "  <thead>\n",
              "    <tr style=\"text-align: right;\">\n",
              "      <th></th>\n",
              "      <th>sentence</th>\n",
              "      <th>label</th>\n",
              "    </tr>\n",
              "  </thead>\n",
              "  <tbody>\n",
              "    <tr>\n",
              "      <th>0</th>\n",
              "      <td>hide new secretions from the parental units</td>\n",
              "      <td>0</td>\n",
              "    </tr>\n",
              "    <tr>\n",
              "      <th>1</th>\n",
              "      <td>contains no wit , only labored gags</td>\n",
              "      <td>0</td>\n",
              "    </tr>\n",
              "    <tr>\n",
              "      <th>2</th>\n",
              "      <td>that loves its characters and communicates something rather beautiful about human nature</td>\n",
              "      <td>1</td>\n",
              "    </tr>\n",
              "    <tr>\n",
              "      <th>3</th>\n",
              "      <td>remains utterly satisfied to remain the same throughout</td>\n",
              "      <td>0</td>\n",
              "    </tr>\n",
              "    <tr>\n",
              "      <th>4</th>\n",
              "      <td>on the worst revenge-of-the-nerds clichés the filmmakers could dredge up</td>\n",
              "      <td>0</td>\n",
              "    </tr>\n",
              "    <tr>\n",
              "      <th>5</th>\n",
              "      <td>that 's far too tragic to merit such superficial treatment</td>\n",
              "      <td>0</td>\n",
              "    </tr>\n",
              "    <tr>\n",
              "      <th>6</th>\n",
              "      <td>demonstrates that the director of such hollywood blockbusters as patriot games can still turn out a small , personal film with an emotional wallop .</td>\n",
              "      <td>1</td>\n",
              "    </tr>\n",
              "    <tr>\n",
              "      <th>7</th>\n",
              "      <td>of saucy</td>\n",
              "      <td>1</td>\n",
              "    </tr>\n",
              "    <tr>\n",
              "      <th>8</th>\n",
              "      <td>a depressed fifteen-year-old 's suicidal poetry</td>\n",
              "      <td>0</td>\n",
              "    </tr>\n",
              "    <tr>\n",
              "      <th>9</th>\n",
              "      <td>are more deeply thought through than in most ` right-thinking ' films</td>\n",
              "      <td>1</td>\n",
              "    </tr>\n",
              "  </tbody>\n",
              "</table>\n",
              "</div>"
            ],
            "text/plain": [
              "                                                                                                                                                sentence  label\n",
              "0                                                                                                           hide new secretions from the parental units       0\n",
              "1                                                                                                                   contains no wit , only labored gags       0\n",
              "2                                                              that loves its characters and communicates something rather beautiful about human nature       1\n",
              "3                                                                                               remains utterly satisfied to remain the same throughout       0\n",
              "4                                                                              on the worst revenge-of-the-nerds clichés the filmmakers could dredge up       0\n",
              "5                                                                                            that 's far too tragic to merit such superficial treatment       0\n",
              "6  demonstrates that the director of such hollywood blockbusters as patriot games can still turn out a small , personal film with an emotional wallop .       1\n",
              "7                                                                                                                                              of saucy       1\n",
              "8                                                                                                       a depressed fifteen-year-old 's suicidal poetry       0\n",
              "9                                                                                 are more deeply thought through than in most ` right-thinking ' films       1"
            ]
          },
          "metadata": {
            "tags": []
          },
          "execution_count": 36
        }
      ]
    },
    {
      "cell_type": "code",
      "metadata": {
        "colab": {
          "base_uri": "https://localhost:8080/"
        },
        "id": "1XPML_co-lME",
        "outputId": "ba550871-eac8-4c33-def0-ac9d580bb88c"
      },
      "source": [
        "def is_good(text: str) -> int:\n",
        "  good_words = ['good', 'nice', 'love']\n",
        "  for word in good_words:\n",
        "    if re.search(' ' + word + ' ', text):\n",
        "      return 1\n",
        "  return 0\n",
        "\n",
        "input_text = \"that loves its characters and communicates something rather beautiful about human nature\"\n",
        "print(input_text)\n",
        "print(is_good(input_text))  # should print 0\n",
        "\n",
        "input_text = \"I love NLP\"\n",
        "print(input_text)\n",
        "print(is_good(input_text))  # should print 1"
      ],
      "execution_count": null,
      "outputs": [
        {
          "output_type": "stream",
          "text": [
            "that loves its characters and communicates something rather beautiful about human nature\n",
            "0\n",
            "I love NLP\n",
            "1\n"
          ],
          "name": "stdout"
        }
      ]
    },
    {
      "cell_type": "code",
      "metadata": {
        "colab": {
          "base_uri": "https://localhost:8080/"
        },
        "id": "GJwEKb1p-lJp",
        "outputId": "c9227d8a-ca75-4d0e-bc0f-ddbb9677b3ab"
      },
      "source": [
        "def is_bad(text: str) -> int:\n",
        "  bad_words = ['bad', 'ugly', 'boring']\n",
        "  for word in bad_words:\n",
        "    if re.search(' ' + word + ' ', text):\n",
        "      return 1\n",
        "  return 0\n",
        "input_text = \"that loves its characters and communicates something rather beautiful about human nature\"\n",
        "print(input_text)\n",
        "print(is_bad(input_text))  # should print 0\n",
        "\n",
        "input_text = \"lockdowns can be boring but learning NLP totally makes up for it\"\n",
        "print(input_text)\n",
        "print(is_bad(input_text))  # should print 1"
      ],
      "execution_count": null,
      "outputs": [
        {
          "output_type": "stream",
          "text": [
            "that loves its characters and communicates something rather beautiful about human nature\n",
            "0\n",
            "lockdowns can be boring but learning NLP totally makes up for it\n",
            "1\n"
          ],
          "name": "stdout"
        }
      ]
    },
    {
      "cell_type": "markdown",
      "metadata": {
        "id": "JbHV983TDaD3"
      },
      "source": [
        " \n",
        "### Logistic Regression"
      ]
    },
    {
      "cell_type": "code",
      "metadata": {
        "colab": {
          "base_uri": "https://localhost:8080/"
        },
        "id": "IGt1gY48-lHe",
        "outputId": "b1f85580-9727-4227-9f9b-4ff2f0983b0f"
      },
      "source": [
        "# Logistic sigmoid function\n",
        "def sigmoid(x):\n",
        "    return 1 / (1 + np.exp(-x))\n",
        "\n",
        "# Defining Logistic Regression Class\n",
        "class LogisticReg():\n",
        "    def __init__(self, rand_seed=RAND_SEED):\n",
        "        self.rand_seed = rand_seed\n",
        "        np.random.seed(self.rand_seed)  # set the random seed for reproducibility\n",
        "        self.w1 = np.random.randn()\n",
        "        self.w2 = np.random.randn()\n",
        "        self.b = np.random.randn()\n",
        "        \n",
        "    def forward(self, x1: int, x2: int) -> int:\n",
        "        weighted_sum = self.w1*x1 + self.w2*x2 + self.b\n",
        "        activation = sigmoid(weighted_sum)\n",
        "        return activation\n",
        "\n",
        "# Defining function to undertake is_good and is_bad featurisation\n",
        "def featurisation(text):\n",
        "  functions = [is_good, is_bad]\n",
        "  return np.array([x(text) for x in functions])\n",
        "\n",
        "# Creating column to indicate featurisation for every row\n",
        "df_train['features'] = df_train['sentence'].apply(featurisation)\n",
        "df_dev['features'] = df_dev['sentence'].apply(featurisation)\n",
        "\n",
        "# Training Logistic Regression Model for df_train\n",
        "training_prob = []\n",
        "logit_model = LogisticReg()\n",
        "for x1, x2 in df_train['features']:\n",
        "  prob = logit_model.forward(x1, x2)\n",
        "  training_prob.append(prob)\n",
        "\n",
        "# Training Logistic Regression Model for df_dev\n",
        "dev_prob = []\n",
        "for x1, x2 in df_dev['features']:\n",
        "  dev_prob.append(prob)\n",
        "\n",
        "# We can also get the predictions by applying our threshold\n",
        "threshold = 0.5\n",
        "training_predictions = [1 if p >= 0.5 else 0 for p in training_prob]\n",
        "training_predictions[:10]\n",
        "dev_predictions = [1 if p >= 0.5 else 0 for p in dev_prob]\n",
        "dev_predictions\n",
        "\n",
        "# Compute the accuracy score\n",
        "def accuracy(y_true: list, y_pred: list) -> int:\n",
        "    assert len(y_true) == len(y_pred), \"y_true and y_pred must be the same length\"\n",
        "    num_correct = 0\n",
        "    for y_t, y_p in zip(y_true, y_pred):\n",
        "        if y_t == y_p:\n",
        "            num_correct += 1\n",
        "    return 100*num_correct / len(y_true)\n",
        "\n",
        "training_model_acc = accuracy(df_train['label'], training_predictions)\n",
        "print(\"The model's accuracy score is {:.2f}%\".format(training_model_acc))\n",
        "\n",
        "dev_model_acc = accuracy(df_dev['label'], dev_predictions)\n",
        "print(\"The model's accuracy score is {:.2f}%\".format(dev_model_acc))"
      ],
      "execution_count": null,
      "outputs": [
        {
          "output_type": "stream",
          "text": [
            "The model's accuracy score is 55.78%\n",
            "The model's accuracy score is 52.00%\n"
          ],
          "name": "stdout"
        }
      ]
    },
    {
      "cell_type": "code",
      "metadata": {
        "colab": {
          "base_uri": "https://localhost:8080/"
        },
        "id": "tLo_QoEd-lCo",
        "outputId": "fb5eb391-a484-47ac-9f3b-cf34ce8f2720"
      },
      "source": [
        "# Load the opinion lexicon\n",
        "# Define where the data is located\n",
        "DATA_DIR = \"data/opinion-lexicon-en/\"\n",
        "path_pos_words = os.path.join(DATA_DIR, 'positive-words.txt')\n",
        "path_neg_words = os.path.join(DATA_DIR, 'negative-words.txt')\n",
        "\n",
        "if IN_COLAB:\n",
        "    path_pos_words = \"uc?id=15nUrNvPy0a9hpBStZ1rjZvU5I73glhVs\"\n",
        "    path_neg_words = \"uc?id=1nlCloWzQ_SeI5jpptBgWX5GOjkmsJvMx\"\n",
        "    if not os.path.exists(path_pos_words):\n",
        "      # If the files don't exist, download them from drive\n",
        "      !wget https://drive.google.com/uc?id=15nUrNvPy0a9hpBStZ1rjZvU5I73glhVs\n",
        "      !wget https://drive.google.com/uc?id=1nlCloWzQ_SeI5jpptBgWX5GOjkmsJvMx\n",
        "\n",
        "# Load in the train and dev data\n",
        "with open(path_pos_words, 'r', encoding='ISO-8859-1') as f:\n",
        "    POS_WORDS = set([u''+word.strip()+'' for word in f.readlines()[30:]])\n",
        "with open(path_neg_words, 'r', encoding='ISO-8859-1') as f:\n",
        "    NEG_WORDS = set([u''+word.strip()+'' for word in f.readlines()[31:]]) \n",
        "\n",
        "print(\"Loaded {} positive and {} negative words.\".format(len(POS_WORDS), len(NEG_WORDS)))\n",
        "print(\"Example positive words: {}\".format(list(POS_WORDS)[:6]))\n",
        "print(\"Example negative words: {}\".format(list(NEG_WORDS)[:6]))\n",
        "\n",
        "# Apply manual feature engineering\n",
        "# 1. Checking the number of words\n",
        "def fe_num_words(tokens):\n",
        "    return len(tokens)\n",
        "\n",
        "# 2. Number of stopwords\n",
        "def fe_num_stopwords(tokens):\n",
        "    return len([token for token in tokens if token in STOP_WORDS])\n",
        "\n",
        "# 3. Checking text length\n",
        "def fe_text_len(tokens):\n",
        "    return len(\" \".join(tokens))\n",
        "\n",
        "# 4. Checking positivity score  \n",
        "def fe_positivity(tokens):\n",
        "    score = 0\n",
        "    for token in tokens:\n",
        "        if token in POS_WORDS:\n",
        "            score += 1\n",
        "        if token in NEG_WORDS:\n",
        "            score -= 1\n",
        "    return score\n",
        "\n",
        "# 5. Contains keyword good\n",
        "def fe_contains_keyword_good(tokens):\n",
        "    return int(any([token.lower() == \"good\" for token in tokens]))\n",
        "\n",
        "\n",
        "# 6. Contains keyword bad\n",
        "def fe_contains_keyword_bad(tokens):\n",
        "    return int(any([token.lower() == \"good\" for token in tokens]))\n",
        "\n",
        "# 7. Tokenising\n",
        "def tokenise(text):\n",
        "    return text.split()  # because punctuation is already separated by spaces\n",
        "\n",
        "# Extract the features from the sentences\n",
        "df_train['number_of_words'] = df_train['sentence'].apply(fe_num_words)\n",
        "df_train['number_of_stopwords'] = df_train['sentence'].apply(fe_num_stopwords)\n",
        "df_train['text_length'] = df_train['sentence'].apply(fe_text_len)\n",
        "df_train['positivity_score'] = df_train['sentence'].apply(fe_positivity)\n",
        "df_train['contains_keyword_good'] = df_train['sentence'].apply(fe_contains_keyword_good)\n",
        "df_train['contains_keyword_bad'] = df_train['sentence'].apply(fe_contains_keyword_bad)\n",
        "df_train['tokenised_sentence'] = df_train['sentence'].apply(tokenise)\n",
        "\n",
        "df_dev['number_of_words'] = df_dev['sentence'].apply(fe_num_words)\n",
        "df_dev['number_of_stopwords'] = df_dev['sentence'].apply(fe_num_stopwords)\n",
        "df_dev['text_length'] = df_dev['sentence'].apply(fe_text_len)\n",
        "df_dev['positivity_score'] = df_dev['sentence'].apply(fe_positivity)\n",
        "df_dev['contains_keyword_good'] = df_dev['sentence'].apply(fe_contains_keyword_good)\n",
        "df_dev['contains_keyword_bad'] = df_dev['sentence'].apply(fe_contains_keyword_bad)\n",
        "df_dev['tokenised_sentence'] = df_dev['sentence'].apply(tokenise)\n",
        "\n",
        "# Set model\n",
        "logreg_model = LogisticRegression()\n",
        "\n",
        "# Define X and y training sets\n",
        "X_train_logreg = df_train.drop(['sentence','label', 'features','tokenised_sentence'], axis = 1)\n",
        "y_train_logreg = df_train['label']\n",
        "\n",
        "# Fit model on training set\n",
        "logreg_model.fit(X_train_logreg, y_train_logreg)\n",
        "\n",
        "y_train_prediction_logreg = logreg_model.predict(X_train_logreg)\n",
        "accuracy_score_train_logreg = accuracy_score(y_train_logreg, y_train_prediction_logreg)\n",
        "print('The accuracy score of the training set is {:.2f}%'.format(100*accuracy_score_train_logreg))\n",
        "\n",
        "# Define X and y dev sets\n",
        "X_dev_logreg = df_dev.drop(['sentence','label', 'features','tokenised_sentence'], axis = 1)\n",
        "y_dev_logreg = df_dev['label']\n",
        "\n",
        "# Fit model on dev set\n",
        "logreg_model.fit(X_dev_logreg, y_dev_logreg)\n",
        "\n",
        "y_dev_prediction_logreg = logreg_model.predict(X_dev_logreg)\n",
        "accuracy_score_dev_logreg = accuracy_score(y_dev_logreg, y_dev_prediction_logreg)\n",
        "print('The accuracy score of the dev set is {:.2f}%'.format(100*accuracy_score_dev_logreg))"
      ],
      "execution_count": null,
      "outputs": [
        {
          "output_type": "stream",
          "text": [
            "Loaded 2006 positive and 4783 negative words.\n",
            "Example positive words: ['saintliness', 'openly', 'pros', 'straightforward', 'phenomenally', 'fervidly']\n",
            "Example negative words: ['sarcasm', 'sidetracked', 'dizzingly', 'clogs', 'malodorous', 'smelt']\n",
            "The accuracy score of the training set is 56.58%\n",
            "The accuracy score of the dev set is 55.25%\n"
          ],
          "name": "stdout"
        }
      ]
    },
    {
      "cell_type": "markdown",
      "metadata": {
        "id": "oWJusGK4IBus"
      },
      "source": [
        "### TFIDF\n",
        "Training a Logistic Regression model on the TFIDF representations of the input texts."
      ]
    },
    {
      "cell_type": "code",
      "metadata": {
        "colab": {
          "base_uri": "https://localhost:8080/"
        },
        "id": "xsbx2lNP-lAE",
        "outputId": "01b3a58d-30bf-4a81-f4cf-e4413954b07e"
      },
      "source": [
        "# Define the vectorizer\n",
        "vectorizer = TfidfVectorizer()\n",
        "\n",
        "# Define the inputs (x) and labels (y)\n",
        "x_train, y_train = df_train1['sentence'].values, df_train1['label'].values\n",
        "x_dev, y_dev = df_dev1['sentence'].values, df_dev1['label'].values\n",
        "\n",
        "# Vectorize the inputs (ie convert the text to a Bag-Of-Words)\n",
        "# First we fit to the training set\n",
        "vectorizer.fit(x_train)\n",
        "\n",
        "# Then we convert train and dev to BOW\n",
        "x_train = vectorizer.transform(x_train)\n",
        "x_dev = vectorizer.transform(x_dev)\n",
        "\n",
        "# Train the model\n",
        "logreg_model.fit(x_train, y_train)\n",
        "y_pred_train = logreg_model.predict(x_train)\n",
        "y_pred_dev = logreg_model.predict(x_dev)\n",
        "accuracy_score_train = accuracy_score(y_train, y_pred_train)\n",
        "accuracy_score_dev = accuracy_score(y_dev, y_pred_dev)\n",
        "\n",
        "print('The accuracy score for the training set is {:.2f}%'.format(100*accuracy_score_train))\n",
        "print('The accuracy score for the dev set is {:.2f}%'.format(100*accuracy_score_dev))"
      ],
      "execution_count": null,
      "outputs": [
        {
          "output_type": "stream",
          "text": [
            "The accuracy score for the training set is 92.26%\n",
            "The accuracy score for the dev set is 82.75%\n"
          ],
          "name": "stdout"
        },
        {
          "output_type": "stream",
          "text": [
            "/usr/local/lib/python3.7/dist-packages/sklearn/linear_model/_logistic.py:940: ConvergenceWarning: lbfgs failed to converge (status=1):\n",
            "STOP: TOTAL NO. of ITERATIONS REACHED LIMIT.\n",
            "\n",
            "Increase the number of iterations (max_iter) or scale the data as shown in:\n",
            "    https://scikit-learn.org/stable/modules/preprocessing.html\n",
            "Please also refer to the documentation for alternative solver options:\n",
            "    https://scikit-learn.org/stable/modules/linear_model.html#logistic-regression\n",
            "  extra_warning_msg=_LOGISTIC_SOLVER_CONVERGENCE_MSG)\n"
          ],
          "name": "stderr"
        }
      ]
    },
    {
      "cell_type": "markdown",
      "metadata": {
        "id": "n_ByxNZ7IQHA"
      },
      "source": [
        "## Error Analysis"
      ]
    },
    {
      "cell_type": "code",
      "metadata": {
        "colab": {
          "base_uri": "https://localhost:8080/",
          "height": 1000
        },
        "id": "_wbdkSCo-k9q",
        "outputId": "5c5e1078-937a-4c6f-8895-0320f9e4ff39"
      },
      "source": [
        "def plot_confusion_matrix(cm, classes, normalize=False, title='Confusion Matrix', cmap=plt.cm.Blues):\n",
        "    if normalize:\n",
        "        cm = cm.astype('float') / cm.sum(axis=1)[:, np.newaxis]\n",
        "    fig, ax = plt.subplots(1, 1, figsize=(8, 8))\n",
        "    plt.imshow(cm, interpolation='nearest', cmap=cmap)\n",
        "    plt.colorbar(fraction=0.046, pad=0.04)\n",
        "\n",
        "    fmt = '.2f' if normalize else 'd'\n",
        "    thresh = cm.max() / 2.\n",
        "    for i, j in itertools.product(range(cm.shape[0]), range(cm.shape[1])):\n",
        "        plt.text(j, i, format(cm[i, j], fmt),\n",
        "                 horizontalalignment=\"center\",\n",
        "                 color=\"white\" if cm[i, j] > thresh else \"black\")\n",
        "\n",
        "    ax.set(yticks=[-0.5, 1.5], \n",
        "           xticks=[0, 1], \n",
        "           yticklabels=classes, \n",
        "           xticklabels=classes)\n",
        "    ax.yaxis.set_major_locator(mpl.ticker.IndexLocator(base=1, offset=0.5))\n",
        "    if title:\n",
        "        plt.title(title)\n",
        "    plt.ylabel('Ground truth label')\n",
        "    plt.xlabel('Predicted label')\n",
        "    plt.show()\n",
        "\n",
        "# Plotting the confusion matrix for my feature engineered Logistic Regression model\n",
        "cm_logreg = confusion_matrix(y_dev_logreg, y_dev_prediction_logreg)\n",
        "plot_confusion_matrix(cm_logreg, (\"0\", \"1\"), normalize=True)\n",
        "\n",
        "# Summarising feature engineered Logistic Regression in Classification Report\n",
        "logreg_report = classification_report(y_dev_logreg, y_dev_prediction_logreg)\n",
        "print(logreg_report)\n",
        "\n",
        "# Plotting the confusion matrix for TFIDF Logistic Regression model\n",
        "cm_tfidf = confusion_matrix(y_dev, y_pred_dev)\n",
        "plot_confusion_matrix(cm_tfidf, (\"0\", \"1\"), normalize=True)\n",
        "\n",
        "# Summarising TFIDF Logistic Regression in Classification Report\n",
        "tfidf_report = classification_report(y_dev, y_pred_dev)\n",
        "print(tfidf_report)"
      ],
      "execution_count": null,
      "outputs": [
        {
          "output_type": "display_data",
          "data": {
            "image/png": "[encoded data removed]",
            "text/plain": [
              "<Figure size 576x576 with 2 Axes>"
            ]
          },
          "metadata": {
            "tags": [],
            "needs_background": "light"
          }
        },
        {
          "output_type": "stream",
          "text": [
            "              precision    recall  f1-score   support\n",
            "\n",
            "           0       0.54      0.45      0.49       192\n",
            "           1       0.56      0.64      0.60       208\n",
            "\n",
            "    accuracy                           0.55       400\n",
            "   macro avg       0.55      0.55      0.55       400\n",
            "weighted avg       0.55      0.55      0.55       400\n",
            "\n"
          ],
          "name": "stdout"
        },
        {
          "output_type": "display_data",
          "data": {
            "image/png": "[encoded data removed]",
            "text/plain": [
              "<Figure size 576x576 with 2 Axes>"
            ]
          },
          "metadata": {
            "tags": [],
            "needs_background": "light"
          }
        },
        {
          "output_type": "stream",
          "text": [
            "              precision    recall  f1-score   support\n",
            "\n",
            "           0       0.84      0.79      0.82       192\n",
            "           1       0.82      0.86      0.84       208\n",
            "\n",
            "    accuracy                           0.83       400\n",
            "   macro avg       0.83      0.83      0.83       400\n",
            "weighted avg       0.83      0.83      0.83       400\n",
            "\n"
          ],
          "name": "stdout"
        }
      ]
    },
    {
      "cell_type": "markdown",
      "metadata": {
        "id": "4bddYyZvJDYG"
      },
      "source": [
        "The TFIDF logisitic regression clearly shows the better results, with accuracy scores between 82% and 84%. Both precision and recall are higher in all cases as well. \n",
        "\n",
        "If we take into consideration that the functions used for feature generation contain only few inputs for both positive and negative words, in our own logistic regression, its limitation in terms of accuracy is more understandable. The input used to train the model is incomplete and insufficient to result in high accuracy.\n",
        "\n",
        "Meanwhile, TFIDF converts a sentence to a vector, thereby incorporating all information existant to learn from. It now seems logical, that the TFIDF regression's performance is stronger."
      ]
    },
    {
      "cell_type": "markdown",
      "metadata": {
        "id": "EMfSdq0JJfwQ"
      },
      "source": [
        "<hr />"
      ]
    },
    {
      "cell_type": "markdown",
      "metadata": {
        "id": "d2AR2SLYQqCU"
      },
      "source": [
        "## Text Similarity "
      ]
    },
    {
      "cell_type": "code",
      "metadata": {
        "id": "LA_8KmdIYMGK"
      },
      "source": [
        "# https://github.com/zalandoresearch/flair\n",
        "try:\n",
        "  import flair\n",
        "  assert flair.__version__ == '0.8', f\"flair version is {flair.__version__}\"\n",
        "except ModuleNotFoundError or AssertionError:\n",
        "  !pip install flair==0.8.0\n",
        "  !pip install allennlp==0.9.0\n",
        "  import flair\n",
        "\n",
        "from flair.data import Sentence\n",
        "from flair.embeddings import WordEmbeddings, ELMoEmbeddings, TransformerWordEmbeddings, TransformerDocumentEmbeddings"
      ],
      "execution_count": null,
      "outputs": []
    },
    {
      "cell_type": "code",
      "metadata": {
        "id": "useFNFXmZ8M-"
      },
      "source": [
        "# Preparing the sentences [do not change!]\n",
        "sentence_1 = \"She went for a walk in the park by the river bank\"\n",
        "sentence_2 = \"The woman went strolling on the grass next to the stream\""
      ],
      "execution_count": null,
      "outputs": []
    },
    {
      "cell_type": "markdown",
      "metadata": {
        "id": "QVMPb5NRQp-5"
      },
      "source": [
        "### Calculating Cosine Similarity"
      ]
    },
    {
      "cell_type": "code",
      "metadata": {
        "colab": {
          "base_uri": "https://localhost:8080/"
        },
        "id": "KiqIBk7qaqO8",
        "outputId": "7f9cf718-1f11-4eac-e843-d63b017bbb86"
      },
      "source": [
        "def get_similarity(embedding_1:np.array, embedding_2:np.array) -> float:\n",
        "  similarity = cosine_similarity(embedding_1.reshape(1, -1), embedding_2.reshape(1, -1))[0][0]\n",
        "  return similarity\n",
        "\n",
        "embedding_1 = np.array([1, 1, 1, 1, 0, 0])\n",
        "embedding_2 = np.array([0, 1, 1, 0, 1, 0])\n",
        "print(get_similarity(embedding_1, embedding_2))  # should print 0.57735...\n",
        "print(get_similarity(embedding_2, embedding_1))  # should print 0.57735..."
      ],
      "execution_count": null,
      "outputs": [
        {
          "output_type": "stream",
          "text": [
            "0.5773502691896258\n",
            "0.5773502691896258\n"
          ],
          "name": "stdout"
        }
      ]
    },
    {
      "cell_type": "markdown",
      "metadata": {
        "id": "tl_kRz9UQp8E"
      },
      "source": [
        "### Calculating the similarity between TFIDF representations"
      ]
    },
    {
      "cell_type": "code",
      "metadata": {
        "colab": {
          "base_uri": "https://localhost:8080/"
        },
        "id": "X4ijk_BZI6Sh",
        "outputId": "ede2cf70-45e5-4388-f189-c0badbdb8a0f"
      },
      "source": [
        "# Defining the vectorizer\n",
        "vectorizer = TfidfVectorizer()\n",
        "\n",
        "# Vectorizing the inputs\n",
        "embedding = vectorizer.fit_transform(np.array([sentence_1, sentence_2])).toarray()\n",
        "\n",
        "print(embedding[0])\n",
        "print(embedding[1])\n",
        "\n",
        "similarity_tfidf = get_similarity(embedding[0], embedding[1])\n",
        "print(similarity_tfidf)"
      ],
      "execution_count": null,
      "outputs": [
        {
          "output_type": "stream",
          "text": [
            "[0.30814893 0.30814893 0.30814893 0.         0.30814893 0.\n",
            " 0.         0.30814893 0.30814893 0.30814893 0.         0.\n",
            " 0.438501   0.         0.30814893 0.2192505  0.        ]\n",
            "[0.         0.         0.         0.28792702 0.         0.28792702\n",
            " 0.28792702 0.         0.         0.         0.28792702 0.28792702\n",
            " 0.61458734 0.28792702 0.         0.20486245 0.28792702]\n",
            "0.3144133558902702\n"
          ],
          "name": "stdout"
        }
      ]
    },
    {
      "cell_type": "markdown",
      "metadata": {
        "id": "f3BdW2PZeB74"
      },
      "source": [
        "### Calculating the similarity between mean GloVe embeddings"
      ]
    },
    {
      "cell_type": "code",
      "metadata": {
        "colab": {
          "base_uri": "https://localhost:8080/"
        },
        "id": "CfgDwVKXI6Pz",
        "outputId": "37f59d40-0acb-4724-d85c-d28ddd15529e"
      },
      "source": [
        "glove_embeddings = WordEmbeddings('glove')\n",
        "\n",
        "# Creating two sentences with flair above\n",
        "Sentence_1 = Sentence(sentence_1)\n",
        "Sentence_2 = Sentence(sentence_2)\n",
        "\n",
        "# Embedding words in sentence\n",
        "glove_embeddings.embed(Sentence_1)\n",
        "glove_embeddings.embed(Sentence_2)\n",
        "\n",
        "embedding_1 = []\n",
        "embedding_2 = []\n",
        "\n",
        "for token in Sentence_1:\n",
        "    #embedding_1.append(token)\n",
        "    embedding_1.append(token.embedding.mean())\n",
        "    #embedding_1.append(token.embedding.shape)\n",
        "    #embedding_1.append(token.embedding)\n",
        "\n",
        "for token in Sentence_2:\n",
        "    #embedding_2.append(token)\n",
        "    embedding_2.append(token.embedding.mean())\n",
        "    #embedding_2.append(token.embedding.shape)\n",
        "    #embedding_2.append(token.embedding)\n",
        "\n",
        "\n",
        "embedding_1 = np.array(embedding_1)\n",
        "embedding_2 = np.array(embedding_2 + [0])\n",
        "\n",
        "print(embedding_1)\n",
        "print(embedding_2)\n",
        "\n",
        "similarity_glove = get_similarity(embedding_1, embedding_2)\n",
        "print(similarity_glove)"
      ],
      "execution_count": null,
      "outputs": [
        {
          "output_type": "stream",
          "text": [
            "[ 0.02233418 -0.0111127  -0.03639515  0.02605014  0.05882604 -0.00126887\n",
            " -0.02795817  0.06225276 -0.03632449 -0.02795817  0.00499167 -0.00347114]\n",
            "[-0.02795817  0.07971903 -0.0111127   0.02577948 -0.0044474  -0.02795817\n",
            "  0.08872788 -0.03352142 -0.0797292  -0.02795817  0.08585544  0.        ]\n",
            "-0.05504035622074767\n"
          ],
          "name": "stdout"
        }
      ]
    },
    {
      "cell_type": "markdown",
      "metadata": {
        "id": "bcJ5vL9_flGp"
      },
      "source": [
        "### Calculating the similarity between mean ELMo embeddings"
      ]
    },
    {
      "cell_type": "code",
      "metadata": {
        "colab": {
          "base_uri": "https://localhost:8080/"
        },
        "id": "tCLPR5YelxJ6",
        "outputId": "2ad2cdb7-890d-4e69-bcab-8e64e23503e9"
      },
      "source": [
        "elmo_embedding = ELMoEmbeddings('small')\n",
        "\n",
        "# Creating two sentences with flair above\n",
        "Sentence_1 = Sentence(sentence_1)\n",
        "Sentence_2 = Sentence(sentence_2)\n",
        "\n",
        "# Embedding words in sentence\n",
        "elmo_embedding.embed(Sentence_1)\n",
        "elmo_embedding.embed(Sentence_2)\n",
        "\n",
        "embedding_1 = []\n",
        "embedding_2 = []\n",
        "\n",
        "for token in Sentence_1:\n",
        "    #embedding_1.append(token)\n",
        "    embedding_1.append(token.embedding.mean())\n",
        "    #embedding_1.append(token.embedding.shape)\n",
        "    #embedding_1.append(token.embedding)\n",
        "\n",
        "for token in Sentence_2:\n",
        "    #embedding_2.append(token)\n",
        "    embedding_2.append(token.embedding.mean())\n",
        "    #embedding_2.append(token.embedding.shape)\n",
        "    #embedding_2.append(token.embedding)\n",
        "\n",
        "\n",
        "embedding_1 = np.array(embedding_1)\n",
        "embedding_2 = np.array(embedding_2 + [0])\n",
        "\n",
        "print(embedding_1)\n",
        "print(embedding_2)\n",
        "\n",
        "similarity_elmo = get_similarity(embedding_1, embedding_2)\n",
        "print(similarity_elmo)"
      ],
      "execution_count": null,
      "outputs": [
        {
          "output_type": "stream",
          "text": [
            "100%|██████████| 336/336 [00:00<00:00, 674945.47B/s]\n",
            "100%|██████████| 54402456/54402456 [00:04<00:00, 12869144.82B/s]\n"
          ],
          "name": "stderr"
        },
        {
          "output_type": "stream",
          "text": [
            "[ 0.02146322  0.02527875  0.0030737   0.05224846  0.03047941  0.02038251\n",
            "  0.00964355  0.00141862  0.04017749 -0.00787266  0.00820768  0.01495385]\n",
            "[ 0.02418317  0.06235116  0.02639305  0.02987337  0.00402601 -0.01100979\n",
            "  0.02265424 -0.00720762  0.00530811  0.00043804  0.04050986  0.        ]\n",
            "0.5610834585979325\n"
          ],
          "name": "stdout"
        }
      ]
    },
    {
      "cell_type": "markdown",
      "metadata": {
        "id": "w0YCoTaXid1x"
      },
      "source": [
        "### Calculating the similarity between BERT document embeddings"
      ]
    },
    {
      "cell_type": "code",
      "metadata": {
        "colab": {
          "base_uri": "https://localhost:8080/",
          "height": 364,
          "referenced_widgets": [
            "fa1bdd1804d74219b3e0799dc38d8228",
            "d140e9c825874b3597d9b4b7652d37b6",
            "ca3b2a4ca27a4ce2a8c72d7109420d75",
            "55de7a615c704b5d8948a1460c2d29bb",
            "18335388b257457d8b6471b83dc61504",
            "3a211115888a458f8a5b0866f907c8ef",
            "42b716de69024a719bf5c996f11e1960",
            "07cc40ae23f54cdea5d29b53a9ca2084",
            "e788fc4045e443f4a27243a0cd21ffb0",
            "5a3f8c9ca7f044838722a13360659628",
            "4d618f8b89d940ad98ed1c3bbce1af96",
            "abea2ab982964208b91b8917f3d26993",
            "e0d9599583fb4e4c99f1ba5e6075961d",
            "7d29274ec9d84e1ab8bf67cc58332f1a",
            "997ca65e3f4a43e69a33f06cc73e3324",
            "988a394be70b406eab62c2da1d30518d",
            "d055585820214cf7a1bae07ab8f88f59",
            "5b7cd25f3f284488b3445cbc391976ae",
            "b635073871734edeafe4a563647478d2",
            "61394ddedd88404089a56594390615ea",
            "27297db1deb148db8d2fc6d48ecb9960",
            "262d84ba352f475f94df1f6874052cb8",
            "48251687d4b74ad1bec21684eec50e0b",
            "556cfbf2f9c94d5ea34d354ef966aad7",
            "2595f6bfe51d47eb8f0227c26cb0c9a8",
            "944d376db1b4471bac3cbc7125cb2a49",
            "094fc25d65074da49e4f418ebc12f7a1",
            "9504a31822d945bf97adb0b5dd182f6c",
            "b4aee4b33da24f999feecea3090a656d",
            "cee95d2d0e0c4255932a0e0ac16a03d3",
            "0c892931be664cb2874521154e1f38c4",
            "de297bbe7b834522a9b8f5e40db3304f",
            "67e4460d1b8e45ce950c62f22f3b5aae",
            "0e30a6d1f11c4af1a7a847a1cb10d767",
            "64964b068e144d4c9ab31885200ab4d5",
            "fca64bbc196c4b3994a381793d877042",
            "26078cde7be24ca79bfc9f52a2bf3dba",
            "80a351eda5b74fbd8c2bbf7f6e410fb2",
            "dfa421f2b50a440a9b3e36c1f06d85cf",
            "23a3e1a3404e4b89aaa59644dbf3704e"
          ]
        },
        "id": "49SRk_8HI6Fw",
        "outputId": "fce16746-b808-4a38-e9af-7012e42e71a7"
      },
      "source": [
        "bert_embeddings = TransformerWordEmbeddings('bert-base-uncased')\n",
        "\n",
        "# Creating two sentences with flair above\n",
        "Sentence_1 = Sentence(sentence_1)\n",
        "Sentence_2 = Sentence(sentence_2)\n",
        "\n",
        "# Embedding words in sentence\n",
        "bert_embeddings.embed(Sentence_1)\n",
        "bert_embeddings.embed(Sentence_2)\n",
        "\n",
        "embedding_1 = []\n",
        "embedding_2 = []\n",
        "\n",
        "for token in Sentence_1:\n",
        "    #embedding_1.append(token)\n",
        "    embedding_1.append(token.embedding.mean())\n",
        "    #embedding_1.append(token.embedding.shape)\n",
        "    #embedding_1.append(token.embedding)\n",
        "\n",
        "for token in Sentence_2:\n",
        "    #embedding_2.append(token)\n",
        "    embedding_2.append(token.embedding.mean())\n",
        "    #embedding_2.append(token.embedding.shape)\n",
        "    #embedding_2.append(token.embedding)\n",
        "\n",
        "\n",
        "embedding_1 = np.array(embedding_1)\n",
        "embedding_2 = np.array(embedding_2 + [0])\n",
        "\n",
        "print(embedding_1)\n",
        "print(embedding_2)\n",
        "\n",
        "similarity_elmo = get_similarity(embedding_1, embedding_2)\n",
        "print(similarity_elmo)\n",
        "\n",
        "similarity_bert = get_similarity(embedding_1, embedding_2)\n",
        "print(similarity_bert)"
      ],
      "execution_count": null,
      "outputs": [
        {
          "output_type": "display_data",
          "data": {
            "application/vnd.jupyter.widget-view+json": {
              "model_id": "fa1bdd1804d74219b3e0799dc38d8228",
              "version_minor": 0,
              "version_major": 2
            },
            "text/plain": [
              "HBox(children=(FloatProgress(value=0.0, description='Downloading', max=433.0, style=ProgressStyle(description_…"
            ]
          },
          "metadata": {
            "tags": []
          }
        },
        {
          "output_type": "stream",
          "text": [
            "\n"
          ],
          "name": "stdout"
        },
        {
          "output_type": "display_data",
          "data": {
            "application/vnd.jupyter.widget-view+json": {
              "model_id": "e788fc4045e443f4a27243a0cd21ffb0",
              "version_minor": 0,
              "version_major": 2
            },
            "text/plain": [
              "HBox(children=(FloatProgress(value=0.0, description='Downloading', max=231508.0, style=ProgressStyle(descripti…"
            ]
          },
          "metadata": {
            "tags": []
          }
        },
        {
          "output_type": "stream",
          "text": [
            "\n"
          ],
          "name": "stdout"
        },
        {
          "output_type": "display_data",
          "data": {
            "application/vnd.jupyter.widget-view+json": {
              "model_id": "d055585820214cf7a1bae07ab8f88f59",
              "version_minor": 0,
              "version_major": 2
            },
            "text/plain": [
              "HBox(children=(FloatProgress(value=0.0, description='Downloading', max=466062.0, style=ProgressStyle(descripti…"
            ]
          },
          "metadata": {
            "tags": []
          }
        },
        {
          "output_type": "stream",
          "text": [
            "\n"
          ],
          "name": "stdout"
        },
        {
          "output_type": "display_data",
          "data": {
            "application/vnd.jupyter.widget-view+json": {
              "model_id": "2595f6bfe51d47eb8f0227c26cb0c9a8",
              "version_minor": 0,
              "version_major": 2
            },
            "text/plain": [
              "HBox(children=(FloatProgress(value=0.0, description='Downloading', max=28.0, style=ProgressStyle(description_w…"
            ]
          },
          "metadata": {
            "tags": []
          }
        },
        {
          "output_type": "stream",
          "text": [
            "\n"
          ],
          "name": "stdout"
        },
        {
          "output_type": "display_data",
          "data": {
            "application/vnd.jupyter.widget-view+json": {
              "model_id": "67e4460d1b8e45ce950c62f22f3b5aae",
              "version_minor": 0,
              "version_major": 2
            },
            "text/plain": [
              "HBox(children=(FloatProgress(value=0.0, description='Downloading', max=440473133.0, style=ProgressStyle(descri…"
            ]
          },
          "metadata": {
            "tags": []
          }
        },
        {
          "output_type": "stream",
          "text": [
            "\n",
            "[-0.01773675 -0.02151286 -0.01976501 -0.01862758 -0.0247204  -0.01915758\n",
            " -0.01818666 -0.02330722 -0.02069369 -0.01821152 -0.02320205 -0.02259364]\n",
            "[-0.01714825 -0.01962513 -0.02095484 -0.02643562 -0.01923317 -0.01809569\n",
            " -0.02509827 -0.02365171 -0.02024531 -0.01799708 -0.02367722  0.        ]\n",
            "0.9356291511269101\n",
            "0.9356291511269101\n"
          ],
          "name": "stdout"
        }
      ]
    },
    {
      "cell_type": "code",
      "metadata": {
        "colab": {
          "base_uri": "https://localhost:8080/"
        },
        "id": "dOxyfaYE3Xqf",
        "outputId": "9bdd026b-d7f0-4f52-b81c-f962b143cd13"
      },
      "source": [
        "# Comparing similarities using same representation but different sentences\n",
        "sentence_A = \"Kat's favorite fruit to eat is a date.\" \n",
        "sentence_B = \"Joe took Alexandria out on a date.\" \n",
        "print(sentence_A)\n",
        "print(sentence_B)\n",
        "\n",
        "\n",
        "# 1. Using sklearn's TfidfVectorizer\n",
        "vectorizer = TfidfVectorizer()\n",
        "embedding = vectorizer.fit_transform(np.array([sentence_A, sentence_B])).toarray()\n",
        "\n",
        "print('TFDIF similarity:')\n",
        "similarity_tfidf = get_similarity(embedding[0], embedding[1])\n",
        "print(similarity_tfidf)\n",
        "\n",
        "\n",
        "# 2. Using GloVe Word Embedding\n",
        "glove_embeddings = WordEmbeddings('glove')\n",
        "\n",
        "# Create two sentences with flair above\n",
        "Sentence_A = Sentence(sentence_A)\n",
        "Sentence_B = Sentence(sentence_B)\n",
        "\n",
        "# Embed words in sentence\n",
        "glove_embeddings.embed(Sentence_A)\n",
        "glove_embeddings.embed(Sentence_B)\n",
        "\n",
        "embedding_A = []\n",
        "embedding_B = []\n",
        "\n",
        "for token in Sentence_1:\n",
        "    embedding_A.append(token.embedding.mean())\n",
        "\n",
        "for token in Sentence_2:\n",
        "    embedding_B.append(token.embedding.mean())\n",
        "   \n",
        "\n",
        "embedding_A = np.array(embedding_A)\n",
        "embedding_B = np.array(embedding_B + [0])\n",
        "\n",
        "print('\\nGloVe similarity:')\n",
        "similarity_glove = get_similarity(embedding_A, embedding_B)\n",
        "print(similarity_glove)\n",
        "\n",
        "# 3. Using ELMo Embeddings\n",
        "elmo_embedding = ELMoEmbeddings('small')\n",
        "\n",
        "# Embed words in sentence\n",
        "elmo_embedding.embed(Sentence_A)\n",
        "elmo_embedding.embed(Sentence_B)\n",
        "\n",
        "embedding_C = []\n",
        "embedding_D = []\n",
        "\n",
        "for token in Sentence_1:\n",
        "    embedding_C.append(token.embedding.mean())\n",
        "\n",
        "for token in Sentence_2:\n",
        "    embedding_D.append(token.embedding.mean())\n",
        "\n",
        "embedding_C = np.array(embedding_C)\n",
        "embedding_D = np.array(embedding_D + [0])\n",
        "\n",
        "print('\\nELMo similarity:')\n",
        "similarity_elmo = get_similarity(embedding_C, embedding_D)\n",
        "print(similarity_elmo)\n",
        "\n",
        "# 4. Using BERT Embeddings\n",
        "bert_embeddings = TransformerWordEmbeddings('bert-base-uncased')\n",
        "\n",
        "bert_embeddings.embed(Sentence_A)\n",
        "bert_embeddings.embed(Sentence_B)\n",
        "\n",
        "embedding_E = []\n",
        "embedding_F = []\n",
        "for token in Sentence_A:\n",
        "    embedding_E.append(token.embedding.mean())\n",
        "\n",
        "for token in Sentence_B:\n",
        "    embedding_F.append(token.embedding.mean())\n",
        "\n",
        "embedding_E = np.array(embedding_E)\n",
        "embedding_F = np.array(embedding_F + [0, 0])\n",
        "\n",
        "print('\\nBERT similarity:')\n",
        "similarity_bert = get_similarity(embedding_E, embedding_F)\n",
        "print(similarity_bert)"
      ],
      "execution_count": null,
      "outputs": [
        {
          "output_type": "stream",
          "text": [
            "Kat's favorite fruit to eat is a date.\n",
            "Joe took Alexandria out on a date.\n",
            "TFDIF similarity:\n",
            "0.0845798608014702\n",
            "\n",
            "GloVe similarity:\n",
            "0.9356291511269101\n",
            "\n",
            "ELMo similarity:\n",
            "0.9356291511269101\n",
            "\n",
            "BERT similarity:\n",
            "0.2117928470326491\n"
          ],
          "name": "stdout"
        }
      ]
    },
    {
      "cell_type": "markdown",
      "metadata": {
        "id": "bq08cR_CkHWm"
      },
      "source": [
        "We see ELMo and GloVe show the highest similarity between the sentences. While ELMo works on a character base, GloVe works on a word base. GloVe word embeddings are context insensitive, however, ELMo and BERT analyse context sensitive representations, thereby understanding that data has a different meaning. Thus, one would have expected ELMo to show a lower similarity than GloVe, however this could be counteracted by similar characters in both sentences(e.g. identical for the word 'date').\n",
        "\n",
        "If you had to build a text similarity system, what would you propose using?\n",
        "To analyse text similarity, rather than mere sentence similarity, I would propose going for ELMo or BERT, as they into consideration the context of the corpus. However, in general it makes sense to compare similarity using different methods, e.g. assessing similarity on a character- and on a word-basis."
      ]
    },
    {
      "cell_type": "markdown",
      "metadata": {
        "id": "Te4a0ZgakHrv"
      },
      "source": [
        "<hr />"
      ]
    },
    {
      "cell_type": "code",
      "metadata": {
        "colab": {
          "base_uri": "https://localhost:8080/",
          "height": 359
        },
        "id": "r-G45Ivs3tHF",
        "outputId": "64c8eb2e-9fb8-4d1d-aa3a-38ad9a59d1c1"
      },
      "source": [
        "# This cell loads the SST-2 dataset [do not change!]\n",
        "path_train = \"https://drive.google.com/uc?id=1IsO72aOzjx-6eu2Z5VOaXZBShatNxBaj\"\n",
        "path_dev = \"https://drive.google.com/uc?id=1tUiTEzR14wmYTdr0mYEKaDbj9-pN05-u\"\n",
        "\n",
        "# Load in the train and dev data\n",
        "df_train = pd.read_csv(path_train, sep='\\t')\n",
        "df_dev = pd.read_csv(path_dev, sep='\\t')\n",
        "# We'll split df_dev into a validation and test set for the purposes of this assignment\n",
        "df_dev, df_test = df_dev[:400], df_dev[400:]\n",
        "\n",
        "# Quick look at the training data\n",
        "pd.set_option('max_colwidth', 1000)\n",
        "df_train[:10]\n"
      ],
      "execution_count": null,
      "outputs": [
        {
          "output_type": "execute_result",
          "data": {
            "text/html": [
              "<div>\n",
              "<style scoped>\n",
              "    .dataframe tbody tr th:only-of-type {\n",
              "        vertical-align: middle;\n",
              "    }\n",
              "\n",
              "    .dataframe tbody tr th {\n",
              "        vertical-align: top;\n",
              "    }\n",
              "\n",
              "    .dataframe thead th {\n",
              "        text-align: right;\n",
              "    }\n",
              "</style>\n",
              "<table border=\"1\" class=\"dataframe\">\n",
              "  <thead>\n",
              "    <tr style=\"text-align: right;\">\n",
              "      <th></th>\n",
              "      <th>sentence</th>\n",
              "      <th>label</th>\n",
              "    </tr>\n",
              "  </thead>\n",
              "  <tbody>\n",
              "    <tr>\n",
              "      <th>0</th>\n",
              "      <td>hide new secretions from the parental units</td>\n",
              "      <td>0</td>\n",
              "    </tr>\n",
              "    <tr>\n",
              "      <th>1</th>\n",
              "      <td>contains no wit , only labored gags</td>\n",
              "      <td>0</td>\n",
              "    </tr>\n",
              "    <tr>\n",
              "      <th>2</th>\n",
              "      <td>that loves its characters and communicates something rather beautiful about human nature</td>\n",
              "      <td>1</td>\n",
              "    </tr>\n",
              "    <tr>\n",
              "      <th>3</th>\n",
              "      <td>remains utterly satisfied to remain the same throughout</td>\n",
              "      <td>0</td>\n",
              "    </tr>\n",
              "    <tr>\n",
              "      <th>4</th>\n",
              "      <td>on the worst revenge-of-the-nerds clichés the filmmakers could dredge up</td>\n",
              "      <td>0</td>\n",
              "    </tr>\n",
              "    <tr>\n",
              "      <th>5</th>\n",
              "      <td>that 's far too tragic to merit such superficial treatment</td>\n",
              "      <td>0</td>\n",
              "    </tr>\n",
              "    <tr>\n",
              "      <th>6</th>\n",
              "      <td>demonstrates that the director of such hollywood blockbusters as patriot games can still turn out a small , personal film with an emotional wallop .</td>\n",
              "      <td>1</td>\n",
              "    </tr>\n",
              "    <tr>\n",
              "      <th>7</th>\n",
              "      <td>of saucy</td>\n",
              "      <td>1</td>\n",
              "    </tr>\n",
              "    <tr>\n",
              "      <th>8</th>\n",
              "      <td>a depressed fifteen-year-old 's suicidal poetry</td>\n",
              "      <td>0</td>\n",
              "    </tr>\n",
              "    <tr>\n",
              "      <th>9</th>\n",
              "      <td>are more deeply thought through than in most ` right-thinking ' films</td>\n",
              "      <td>1</td>\n",
              "    </tr>\n",
              "  </tbody>\n",
              "</table>\n",
              "</div>"
            ],
            "text/plain": [
              "                                                                                                                                                sentence  label\n",
              "0                                                                                                           hide new secretions from the parental units       0\n",
              "1                                                                                                                   contains no wit , only labored gags       0\n",
              "2                                                              that loves its characters and communicates something rather beautiful about human nature       1\n",
              "3                                                                                               remains utterly satisfied to remain the same throughout       0\n",
              "4                                                                              on the worst revenge-of-the-nerds clichés the filmmakers could dredge up       0\n",
              "5                                                                                            that 's far too tragic to merit such superficial treatment       0\n",
              "6  demonstrates that the director of such hollywood blockbusters as patriot games can still turn out a small , personal film with an emotional wallop .       1\n",
              "7                                                                                                                                              of saucy       1\n",
              "8                                                                                                       a depressed fifteen-year-old 's suicidal poetry       0\n",
              "9                                                                                 are more deeply thought through than in most ` right-thinking ' films       1"
            ]
          },
          "metadata": {
            "tags": []
          },
          "execution_count": 16
        }
      ]
    },
    {
      "cell_type": "code",
      "metadata": {
        "colab": {
          "base_uri": "https://localhost:8080/",
          "height": 479
        },
        "id": "f0VMoujB40ij",
        "outputId": "01acea44-5238-4ba5-cae3-784b2c8e90db"
      },
      "source": [
        "#################### 1. Optimising model for best performance on validation set ####################\n",
        "# Loading the GloVe embeddings\n",
        "glove_embedding = WordEmbeddings('glove')\n",
        "embedding_size = glove_embedding.embedding_length\n",
        "\n",
        "# Building Vocab\n",
        "training_sentences = df_train['sentence'].values\n",
        "PAD_token = '[PAD]'\n",
        "OOV_token = '[OOV]'\n",
        "vocab = {\n",
        "    PAD_token: 0,\n",
        "    OOV_token: 1\n",
        "}\n",
        "\n",
        "# Looping through all the training sentences\n",
        "for sentence in training_sentences:\n",
        "    tokens = sentence.split()  # word tokenise\n",
        "    for word in tokens:\n",
        "        # If we haven't already added the word to the vocab and we have an embedding available for that word\n",
        "        # We could alternatively add all the words, and learn the embeddings for the words which don't have a pre-trained embedding\n",
        "        if word not in vocab and word in glove_embedding.precomputed_word_embeddings.vocab:\n",
        "            vocab[word] = len(vocab)  # add the word to the vocab, using the next available index\n",
        "            \n",
        "vocab_size = len(vocab)  # store the vocab size\n",
        "print('There are {} tokens in the vocab'.format(vocab_size))\n",
        "# print(list(vocab.items())[:20])  # show the first items in the vocab\n",
        "\n",
        "# Creating Embedding Matrix\n",
        "# Initialising the embedding matrix with zeros\n",
        "embedding_matrix = np.zeros(shape=(vocab_size, embedding_size))\n",
        "\n",
        "# Now, for every word in the vocab, we will update the corresponding row in the embedding matrix with the\n",
        "# pre-loaded GloVe vector\n",
        "for word, word_index in vocab.items():\n",
        "    if word in glove_embedding.precomputed_word_embeddings.vocab:  # if the word is in the pre-trained vocab\n",
        "        word_embedding = glove_embedding.precomputed_word_embeddings.word_vec(word)\n",
        "        # Save in the word_embedding matrix\n",
        "        embedding_matrix[word_index, :] = word_embedding\n",
        "\n",
        "# Show the word embeddings for the word \"loves\" at index 17\n",
        "num_dimensions_to_show = 20\n",
        "#print(glove_embedding.precomputed_word_embeddings.word_vec(\"loves\")[:num_dimensions_to_show])\n",
        "#print(embedding_matrix[17, :num_dimensions_to_show])\n",
        "\n",
        "# Use the mean of the embeddings of all the words in the vocab to replace zeros\n",
        "mean_embedding = np.mean(embedding_matrix, axis=0)  # calculate the mean across axis 0 (i.e. across the rows)\n",
        "embedding_matrix[vocab[OOV_token], :] = mean_embedding\n",
        "#print(embedding_matrix[vocab[OOV_token], :])\n",
        "\n",
        "#  Convert all the Data from Words to Indices\n",
        "def convert_words_to_indices(sentence: str) -> list:\n",
        "    tokens = sentence.split()\n",
        "    return [vocab[token] if token in vocab else vocab[OOV_token] for token in tokens]\n",
        "\n",
        "# Convert all our training, validation and test sentences to indices\n",
        "df_train['sentence_indices'] = df_train['sentence'].apply(convert_words_to_indices)\n",
        "df_dev['sentence_indices'] = df_dev['sentence'].apply(convert_words_to_indices)\n",
        "df_test['sentence_indices'] = df_test['sentence'].apply(convert_words_to_indices)\n",
        "\n",
        "# Padding the data\n",
        "# Find how long the longest sentence is\n",
        "longest_sequence = max(df_train['sentence_indices'].apply(lambda x: len(x)))\n",
        "print('The longest training sentence has {} tokens.'.format(longest_sequence))\n",
        "\n",
        "# Pad tokens with 0s to the max sequence length (52) using `pre` padding i.e. put the 0s in front\n",
        "def pad_sequence(tokens: list, maxlen: int = longest_sequence) -> list:\n",
        "    pre = [0]*(maxlen - len(tokens))  # make a list of 0s the size that we need to prepend\n",
        "    return pre + tokens\n",
        "\n",
        "# Pad the training, validation and test data\n",
        "df_train['sentence_indices'] = df_train['sentence_indices'].apply(pad_sequence)\n",
        "df_dev['sentence_indices'] = df_dev['sentence_indices'].apply(pad_sequence)\n",
        "df_test['sentence_indices'] = df_test['sentence_indices'].apply(pad_sequence)\n",
        "\n",
        "df_dev[['sentence', 'sentence_indices', 'label']].head()\n"
      ],
      "execution_count": null,
      "outputs": [
        {
          "output_type": "stream",
          "text": [
            "2021-03-24 14:29:09,504 https://flair.informatik.hu-berlin.de/resources/embeddings/token/glove.gensim.vectors.npy not found in cache, downloading to /tmp/tmpch8zs_0k\n"
          ],
          "name": "stdout"
        },
        {
          "output_type": "stream",
          "text": [
            "100%|██████████| 160000128/160000128 [00:17<00:00, 9347827.68B/s]"
          ],
          "name": "stderr"
        },
        {
          "output_type": "stream",
          "text": [
            "2021-03-24 14:29:27,453 copying /tmp/tmpch8zs_0k to cache at /root/.flair/embeddings/glove.gensim.vectors.npy\n"
          ],
          "name": "stdout"
        },
        {
          "output_type": "stream",
          "text": [
            "\n"
          ],
          "name": "stderr"
        },
        {
          "output_type": "stream",
          "text": [
            "2021-03-24 14:29:27,712 removing temp file /tmp/tmpch8zs_0k\n",
            "2021-03-24 14:29:29,191 https://flair.informatik.hu-berlin.de/resources/embeddings/token/glove.gensim not found in cache, downloading to /tmp/tmpzdw3z53_\n"
          ],
          "name": "stdout"
        },
        {
          "output_type": "stream",
          "text": [
            "100%|██████████| 21494764/21494764 [00:04<00:00, 5364977.70B/s]"
          ],
          "name": "stderr"
        },
        {
          "output_type": "stream",
          "text": [
            "2021-03-24 14:29:34,023 copying /tmp/tmpzdw3z53_ to cache at /root/.flair/embeddings/glove.gensim\n",
            "2021-03-24 14:29:34,060 removing temp file /tmp/tmpzdw3z53_\n"
          ],
          "name": "stdout"
        },
        {
          "output_type": "stream",
          "text": [
            "\n"
          ],
          "name": "stderr"
        },
        {
          "output_type": "stream",
          "text": [
            "There are 13771 tokens in the vocab\n",
            "The longest training sentence has 52 tokens.\n"
          ],
          "name": "stdout"
        },
        {
          "output_type": "execute_result",
          "data": {
            "text/html": [
              "<div>\n",
              "<style scoped>\n",
              "    .dataframe tbody tr th:only-of-type {\n",
              "        vertical-align: middle;\n",
              "    }\n",
              "\n",
              "    .dataframe tbody tr th {\n",
              "        vertical-align: top;\n",
              "    }\n",
              "\n",
              "    .dataframe thead th {\n",
              "        text-align: right;\n",
              "    }\n",
              "</style>\n",
              "<table border=\"1\" class=\"dataframe\">\n",
              "  <thead>\n",
              "    <tr style=\"text-align: right;\">\n",
              "      <th></th>\n",
              "      <th>sentence</th>\n",
              "      <th>sentence_indices</th>\n",
              "      <th>label</th>\n",
              "    </tr>\n",
              "  </thead>\n",
              "  <tbody>\n",
              "    <tr>\n",
              "      <th>0</th>\n",
              "      <td>it 's a charming and often affecting journey .</td>\n",
              "      <td>[0, 0, 0, 0, 0, 0, 0, 0, 0, 0, 0, 0, 0, 0, 0, 0, 0, 0, 0, 0, 0, 0, 0, 0, 0, 0, 0, 0, 0, 0, 0, 0, 0, 0, 0, 0, 0, 0, 0, 0, 0, 0, 0, 141, 42, 62, 610, 20, 202, 1294, 2514, 70]</td>\n",
              "      <td>1</td>\n",
              "    </tr>\n",
              "    <tr>\n",
              "      <th>1</th>\n",
              "      <td>unflinchingly bleak and desperate</td>\n",
              "      <td>[0, 0, 0, 0, 0, 0, 0, 0, 0, 0, 0, 0, 0, 0, 0, 0, 0, 0, 0, 0, 0, 0, 0, 0, 0, 0, 0, 0, 0, 0, 0, 0, 0, 0, 0, 0, 0, 0, 0, 0, 0, 0, 0, 0, 0, 0, 0, 0, 1, 2099, 20, 2681]</td>\n",
              "      <td>0</td>\n",
              "    </tr>\n",
              "    <tr>\n",
              "      <th>2</th>\n",
              "      <td>allows us to hope that nolan is poised to embark a major career as a commercial yet inventive filmmaker .</td>\n",
              "      <td>[0, 0, 0, 0, 0, 0, 0, 0, 0, 0, 0, 0, 0, 0, 0, 0, 0, 0, 0, 0, 0, 0, 0, 0, 0, 0, 0, 0, 0, 0, 0, 0, 2302, 298, 31, 7053, 16, 11018, 128, 1, 31, 1, 62, 2358, 513, 55, 62, 1807, 502, 3007, 1350, 70]</td>\n",
              "      <td>1</td>\n",
              "    </tr>\n",
              "    <tr>\n",
              "      <th>3</th>\n",
              "      <td>the acting , costumes , music , cinematography and sound are all astounding given the production 's austere locales .</td>\n",
              "      <td>[0, 0, 0, 0, 0, 0, 0, 0, 0, 0, 0, 0, 0, 0, 0, 0, 0, 0, 0, 0, 0, 0, 0, 0, 0, 0, 0, 0, 0, 0, 0, 0, 6, 835, 12, 5159, 12, 843, 12, 1443, 20, 5261, 76, 130, 4831, 297, 6, 2410, 42, 1, 3998, 70]</td>\n",
              "      <td>1</td>\n",
              "    </tr>\n",
              "    <tr>\n",
              "      <th>4</th>\n",
              "      <td>it 's slow -- very , very slow .</td>\n",
              "      <td>[0, 0, 0, 0, 0, 0, 0, 0, 0, 0, 0, 0, 0, 0, 0, 0, 0, 0, 0, 0, 0, 0, 0, 0, 0, 0, 0, 0, 0, 0, 0, 0, 0, 0, 0, 0, 0, 0, 0, 0, 0, 0, 0, 141, 42, 1583, 225, 186, 12, 186, 1583, 70]</td>\n",
              "      <td>0</td>\n",
              "    </tr>\n",
              "  </tbody>\n",
              "</table>\n",
              "</div>"
            ],
            "text/plain": [
              "                                                                                                                 sentence  ... label\n",
              "0                                                                         it 's a charming and often affecting journey .   ...     1\n",
              "1                                                                                      unflinchingly bleak and desperate   ...     0\n",
              "2              allows us to hope that nolan is poised to embark a major career as a commercial yet inventive filmmaker .   ...     1\n",
              "3  the acting , costumes , music , cinematography and sound are all astounding given the production 's austere locales .   ...     1\n",
              "4                                                                                       it 's slow -- very , very slow .   ...     0\n",
              "\n",
              "[5 rows x 3 columns]"
            ]
          },
          "metadata": {
            "tags": []
          },
          "execution_count": 17
        }
      ]
    },
    {
      "cell_type": "code",
      "metadata": {
        "colab": {
          "base_uri": "https://localhost:8080/",
          "height": 1000
        },
        "id": "gRRbUllKKH-N",
        "outputId": "92e0600c-e943-4ae2-d571-c3a6c67b374c"
      },
      "source": [
        "# Ensuring we have compatible tensorflow and keras versions\n",
        "!pip install keras==2.3.1\n",
        "!pip install tensorflow==2.2.0"
      ],
      "execution_count": null,
      "outputs": [
        {
          "output_type": "stream",
          "text": [
            "Requirement already satisfied: keras==2.3.1 in /usr/local/lib/python3.7/dist-packages (2.3.1)\n",
            "Requirement already satisfied: pyyaml in /usr/local/lib/python3.7/dist-packages (from keras==2.3.1) (3.13)\n",
            "Requirement already satisfied: six>=1.9.0 in /usr/local/lib/python3.7/dist-packages (from keras==2.3.1) (1.15.0)\n",
            "Requirement already satisfied: keras-preprocessing>=1.0.5 in /usr/local/lib/python3.7/dist-packages (from keras==2.3.1) (1.1.2)\n",
            "Requirement already satisfied: h5py in /usr/local/lib/python3.7/dist-packages (from keras==2.3.1) (2.10.0)\n",
            "Requirement already satisfied: scipy>=0.14 in /usr/local/lib/python3.7/dist-packages (from keras==2.3.1) (1.4.1)\n",
            "Requirement already satisfied: keras-applications>=1.0.6 in /usr/local/lib/python3.7/dist-packages (from keras==2.3.1) (1.0.8)\n",
            "Requirement already satisfied: numpy>=1.9.1 in /usr/local/lib/python3.7/dist-packages (from keras==2.3.1) (1.19.5)\n",
            "Requirement already satisfied: tensorflow==2.2.0 in /usr/local/lib/python3.7/dist-packages (2.2.0)\n",
            "Requirement already satisfied: grpcio>=1.8.6 in /usr/local/lib/python3.7/dist-packages (from tensorflow==2.2.0) (1.32.0)\n",
            "Requirement already satisfied: tensorboard<2.3.0,>=2.2.0 in /usr/local/lib/python3.7/dist-packages (from tensorflow==2.2.0) (2.2.2)\n",
            "Requirement already satisfied: h5py<2.11.0,>=2.10.0 in /usr/local/lib/python3.7/dist-packages (from tensorflow==2.2.0) (2.10.0)\n",
            "Requirement already satisfied: six>=1.12.0 in /usr/local/lib/python3.7/dist-packages (from tensorflow==2.2.0) (1.15.0)\n",
            "Requirement already satisfied: wrapt>=1.11.1 in /usr/local/lib/python3.7/dist-packages (from tensorflow==2.2.0) (1.12.1)\n",
            "Requirement already satisfied: gast==0.3.3 in /usr/local/lib/python3.7/dist-packages (from tensorflow==2.2.0) (0.3.3)\n",
            "Requirement already satisfied: numpy<2.0,>=1.16.0 in /usr/local/lib/python3.7/dist-packages (from tensorflow==2.2.0) (1.19.5)\n",
            "Requirement already satisfied: wheel>=0.26; python_version >= \"3\" in /usr/local/lib/python3.7/dist-packages (from tensorflow==2.2.0) (0.36.2)\n",
            "Requirement already satisfied: astunparse==1.6.3 in /usr/local/lib/python3.7/dist-packages (from tensorflow==2.2.0) (1.6.3)\n",
            "Requirement already satisfied: protobuf>=3.8.0 in /usr/local/lib/python3.7/dist-packages (from tensorflow==2.2.0) (3.12.4)\n",
            "Requirement already satisfied: tensorflow-estimator<2.3.0,>=2.2.0 in /usr/local/lib/python3.7/dist-packages (from tensorflow==2.2.0) (2.2.0)\n",
            "Requirement already satisfied: scipy==1.4.1; python_version >= \"3\" in /usr/local/lib/python3.7/dist-packages (from tensorflow==2.2.0) (1.4.1)\n",
            "Requirement already satisfied: absl-py>=0.7.0 in /usr/local/lib/python3.7/dist-packages (from tensorflow==2.2.0) (0.10.0)\n",
            "Requirement already satisfied: keras-preprocessing>=1.1.0 in /usr/local/lib/python3.7/dist-packages (from tensorflow==2.2.0) (1.1.2)\n",
            "Requirement already satisfied: termcolor>=1.1.0 in /usr/local/lib/python3.7/dist-packages (from tensorflow==2.2.0) (1.1.0)\n",
            "Requirement already satisfied: opt-einsum>=2.3.2 in /usr/local/lib/python3.7/dist-packages (from tensorflow==2.2.0) (3.3.0)\n",
            "Requirement already satisfied: google-pasta>=0.1.8 in /usr/local/lib/python3.7/dist-packages (from tensorflow==2.2.0) (0.2.0)\n",
            "Requirement already satisfied: setuptools>=41.0.0 in /usr/local/lib/python3.7/dist-packages (from tensorboard<2.3.0,>=2.2.0->tensorflow==2.2.0) (54.1.2)\n",
            "Requirement already satisfied: tensorboard-plugin-wit>=1.6.0 in /usr/local/lib/python3.7/dist-packages (from tensorboard<2.3.0,>=2.2.0->tensorflow==2.2.0) (1.8.0)\n",
            "Requirement already satisfied: markdown>=2.6.8 in /usr/local/lib/python3.7/dist-packages (from tensorboard<2.3.0,>=2.2.0->tensorflow==2.2.0) (3.3.4)\n",
            "Requirement already satisfied: requests<3,>=2.21.0 in /usr/local/lib/python3.7/dist-packages (from tensorboard<2.3.0,>=2.2.0->tensorflow==2.2.0) (2.23.0)\n",
            "Requirement already satisfied: google-auth<2,>=1.6.3 in /usr/local/lib/python3.7/dist-packages (from tensorboard<2.3.0,>=2.2.0->tensorflow==2.2.0) (1.27.1)\n",
            "Requirement already satisfied: werkzeug>=0.11.15 in /usr/local/lib/python3.7/dist-packages (from tensorboard<2.3.0,>=2.2.0->tensorflow==2.2.0) (1.0.1)\n",
            "Requirement already satisfied: google-auth-oauthlib<0.5,>=0.4.1 in /usr/local/lib/python3.7/dist-packages (from tensorboard<2.3.0,>=2.2.0->tensorflow==2.2.0) (0.4.3)\n",
            "Requirement already satisfied: importlib-metadata; python_version < \"3.8\" in /usr/local/lib/python3.7/dist-packages (from markdown>=2.6.8->tensorboard<2.3.0,>=2.2.0->tensorflow==2.2.0) (3.7.2)\n",
            "Requirement already satisfied: chardet<4,>=3.0.2 in /usr/local/lib/python3.7/dist-packages (from requests<3,>=2.21.0->tensorboard<2.3.0,>=2.2.0->tensorflow==2.2.0) (3.0.4)\n",
            "Collecting urllib3!=1.25.0,!=1.25.1,<1.26,>=1.21.1\n",
            "\u001b[?25l  Downloading https://files.pythonhosted.org/packages/56/aa/4ef5aa67a9a62505db124a5cb5262332d1d4153462eb8fd89c9fa41e5d92/urllib3-1.25.11-py2.py3-none-any.whl (127kB)\n",
            "\u001b[K     |████████████████████████████████| 133kB 4.2MB/s \n",
            "\u001b[?25hRequirement already satisfied: idna<3,>=2.5 in /usr/local/lib/python3.7/dist-packages (from requests<3,>=2.21.0->tensorboard<2.3.0,>=2.2.0->tensorflow==2.2.0) (2.10)\n",
            "Requirement already satisfied: certifi>=2017.4.17 in /usr/local/lib/python3.7/dist-packages (from requests<3,>=2.21.0->tensorboard<2.3.0,>=2.2.0->tensorflow==2.2.0) (2020.12.5)\n",
            "Requirement already satisfied: pyasn1-modules>=0.2.1 in /usr/local/lib/python3.7/dist-packages (from google-auth<2,>=1.6.3->tensorboard<2.3.0,>=2.2.0->tensorflow==2.2.0) (0.2.8)\n",
            "Requirement already satisfied: cachetools<5.0,>=2.0.0 in /usr/local/lib/python3.7/dist-packages (from google-auth<2,>=1.6.3->tensorboard<2.3.0,>=2.2.0->tensorflow==2.2.0) (4.2.1)\n",
            "Requirement already satisfied: rsa<5,>=3.1.4; python_version >= \"3.6\" in /usr/local/lib/python3.7/dist-packages (from google-auth<2,>=1.6.3->tensorboard<2.3.0,>=2.2.0->tensorflow==2.2.0) (4.7.2)\n",
            "Requirement already satisfied: requests-oauthlib>=0.7.0 in /usr/local/lib/python3.7/dist-packages (from google-auth-oauthlib<0.5,>=0.4.1->tensorboard<2.3.0,>=2.2.0->tensorflow==2.2.0) (1.3.0)\n",
            "Requirement already satisfied: typing-extensions>=3.6.4; python_version < \"3.8\" in /usr/local/lib/python3.7/dist-packages (from importlib-metadata; python_version < \"3.8\"->markdown>=2.6.8->tensorboard<2.3.0,>=2.2.0->tensorflow==2.2.0) (3.7.4.3)\n",
            "Requirement already satisfied: zipp>=0.5 in /usr/local/lib/python3.7/dist-packages (from importlib-metadata; python_version < \"3.8\"->markdown>=2.6.8->tensorboard<2.3.0,>=2.2.0->tensorflow==2.2.0) (3.4.1)\n",
            "Requirement already satisfied: pyasn1<0.5.0,>=0.4.6 in /usr/local/lib/python3.7/dist-packages (from pyasn1-modules>=0.2.1->google-auth<2,>=1.6.3->tensorboard<2.3.0,>=2.2.0->tensorflow==2.2.0) (0.4.8)\n",
            "Requirement already satisfied: oauthlib>=3.0.0 in /usr/local/lib/python3.7/dist-packages (from requests-oauthlib>=0.7.0->google-auth-oauthlib<0.5,>=0.4.1->tensorboard<2.3.0,>=2.2.0->tensorflow==2.2.0) (3.1.0)\n",
            "\u001b[31mERROR: konoha 4.6.4 has requirement requests<3.0.0,>=2.25.1, but you'll have requests 2.23.0 which is incompatible.\u001b[0m\n",
            "\u001b[31mERROR: datascience 0.10.6 has requirement folium==0.2.1, but you'll have folium 0.8.3 which is incompatible.\u001b[0m\n",
            "Installing collected packages: urllib3\n",
            "  Found existing installation: urllib3 1.26.4\n",
            "    Uninstalling urllib3-1.26.4:\n",
            "      Successfully uninstalled urllib3-1.26.4\n",
            "Successfully installed urllib3-1.25.11\n"
          ],
          "name": "stdout"
        },
        {
          "output_type": "display_data",
          "data": {
            "application/vnd.colab-display-data+json": {
              "pip_warning": {
                "packages": [
                  "urllib3"
                ]
              }
            }
          },
          "metadata": {
            "tags": []
          }
        }
      ]
    },
    {
      "cell_type": "code",
      "metadata": {
        "colab": {
          "base_uri": "https://localhost:8080/"
        },
        "id": "pBRmr1zV6aLR",
        "outputId": "77fdf0fd-cd15-47c7-e9bc-c4b40fab5039"
      },
      "source": [
        "import keras\n",
        "from keras import layers\n",
        "from keras import backend as K\n",
        "\n",
        "# Developing 5  multi-layer bidirectional LSTM-based RNN with dropout!\n",
        "rnn_model = keras.Sequential()  # the keras Sequential class groups a linear stack of layers into a tf.keras.Model\n",
        "\n",
        "# Add an Embedding layer expecting input vocab, and output dimenstion the size of our embeddings\n",
        "# mask_zero = True tells the Embedding layer that we use index 0 for padded tokens\n",
        "rnn_model.add(layers.Embedding(input_shape=(longest_sequence,), input_dim=vocab_size, output_dim=embedding_size, input_length=longest_sequence,\n",
        "                           weights=[embedding_matrix], mask_zero=True, trainable=False))\n",
        "\n",
        "# Create an LSTM layer\n",
        "rnn_model.add(layers.Bidirectional(layers.LSTM(256, return_sequences=True)))\n",
        "rnn_model.add(layers.Bidirectional(layers.LSTM(256, return_sequences=True)))  # and another layer\n",
        "rnn_model.add(layers.Bidirectional(layers.LSTM(128, return_sequences=True, recurrent_dropout=0.2)))  # layer with recurrent dropout\n",
        "rnn_model.add(layers.Bidirectional(layers.LSTM(128, return_sequences=True)))  # and another layer\n",
        "rnn_model.add(layers.Bidirectional(layers.LSTM(64, return_sequences=False)))  # and another layer\n",
        "\n",
        "# Add another Dense layer (with relu activation) and apply dropout\n",
        "rnn_model.add(keras.layers.Dense(32, activation='relu'))\n",
        "rnn_model.add(keras.layers.Dropout(rate=0.4))  # we will drop 40% of the input units at random during training\n",
        "\n",
        "# Add a Dense layer with a single unit and sigmoid activation.\n",
        "rnn_model.add(layers.Dense(1, activation='sigmoid'))\n",
        "\n",
        "# Compile the model\n",
        "rnn_model.compile(optimizer='adam', loss='binary_crossentropy', metrics=['accuracy'])\n",
        "\n",
        "# Show the model summary (notice that the dropout layer has no parameters)\n",
        "rnn_model.summary()\n"
      ],
      "execution_count": null,
      "outputs": [
        {
          "output_type": "stream",
          "text": [
            "Model: \"sequential_1\"\n",
            "_________________________________________________________________\n",
            "Layer (type)                 Output Shape              Param #   \n",
            "=================================================================\n",
            "embedding (Embedding)        (None, 52, 100)           1377100   \n",
            "_________________________________________________________________\n",
            "bidirectional (Bidirectional (None, 52, 512)           731136    \n",
            "_________________________________________________________________\n",
            "bidirectional_1 (Bidirection (None, 52, 512)           1574912   \n",
            "_________________________________________________________________\n",
            "bidirectional_2 (Bidirection (None, 52, 256)           656384    \n",
            "_________________________________________________________________\n",
            "bidirectional_3 (Bidirection (None, 52, 256)           394240    \n",
            "_________________________________________________________________\n",
            "bidirectional_4 (Bidirection (None, 128)               164352    \n",
            "_________________________________________________________________\n",
            "dense (Dense)                (None, 32)                4128      \n",
            "_________________________________________________________________\n",
            "dropout (Dropout)            (None, 32)                0         \n",
            "_________________________________________________________________\n",
            "dense_1 (Dense)              (None, 1)                 33        \n",
            "=================================================================\n",
            "Total params: 4,902,285\n",
            "Trainable params: 3,525,185\n",
            "Non-trainable params: 1,377,100\n",
            "_________________________________________________________________\n"
          ],
          "name": "stdout"
        }
      ]
    },
    {
      "cell_type": "code",
      "metadata": {
        "colab": {
          "base_uri": "https://localhost:8080/"
        },
        "id": "ZW6MgliqQVeX",
        "outputId": "be1d16e9-cf60-484d-f563-0cb6af63ca57"
      },
      "source": [
        "# Convert the data from dataframes to numpy arrays\n",
        "X_train, y_train = np.vstack(df_train['sentence_indices'].values), df_train['label'].values\n",
        "X_dev, y_dev = np.vstack(df_dev['sentence_indices'].values), df_dev['label'].values\n",
        "X_test, y_test = np.vstack(df_test['sentence_indices'].values), df_test['label'].values\n",
        "\n",
        "# Train the model\n",
        "NUM_EPOCHS = 3\n",
        "BATCH_SIZE = 1000\n",
        "\n",
        "history = rnn_model.fit(X_train,  y_train,\n",
        "                        batch_size=BATCH_SIZE, epochs=NUM_EPOCHS,\n",
        "                        validation_data=(X_dev, y_dev))"
      ],
      "execution_count": null,
      "outputs": [
        {
          "output_type": "stream",
          "text": [
            "Epoch 1/3\n",
            "WARNING:tensorflow:AutoGraph could not transform <function Model.make_train_function.<locals>.train_function at 0x7f3d50ac3d40> and will run it as-is.\n",
            "Please report this to the TensorFlow team. When filing the bug, set the verbosity to 10 (on Linux, `export AUTOGRAPH_VERBOSITY=10`) and attach the full output.\n",
            "Cause: closure mismatch, requested ('self', 'step_function'), but source function had ()\n",
            "To silence this warning, decorate the function with @tf.autograph.experimental.do_not_convert\n",
            "WARNING: AutoGraph could not transform <function Model.make_train_function.<locals>.train_function at 0x7f3d50ac3d40> and will run it as-is.\n",
            "Please report this to the TensorFlow team. When filing the bug, set the verbosity to 10 (on Linux, `export AUTOGRAPH_VERBOSITY=10`) and attach the full output.\n",
            "Cause: closure mismatch, requested ('self', 'step_function'), but source function had ()\n",
            "To silence this warning, decorate the function with @tf.autograph.experimental.do_not_convert\n",
            "68/68 [==============================] - ETA: 0s - loss: 0.6092 - accuracy: 0.6615 WARNING:tensorflow:AutoGraph could not transform <function Model.make_test_function.<locals>.test_function at 0x7f3d4d833e60> and will run it as-is.\n",
            "Please report this to the TensorFlow team. When filing the bug, set the verbosity to 10 (on Linux, `export AUTOGRAPH_VERBOSITY=10`) and attach the full output.\n",
            "Cause: closure mismatch, requested ('self', 'step_function'), but source function had ()\n",
            "To silence this warning, decorate the function with @tf.autograph.experimental.do_not_convert\n",
            "WARNING: AutoGraph could not transform <function Model.make_test_function.<locals>.test_function at 0x7f3d4d833e60> and will run it as-is.\n",
            "Please report this to the TensorFlow team. When filing the bug, set the verbosity to 10 (on Linux, `export AUTOGRAPH_VERBOSITY=10`) and attach the full output.\n",
            "Cause: closure mismatch, requested ('self', 'step_function'), but source function had ()\n",
            "To silence this warning, decorate the function with @tf.autograph.experimental.do_not_convert\n",
            "68/68 [==============================] - 1846s 27s/step - loss: 0.6082 - accuracy: 0.6625 - val_loss: 0.5066 - val_accuracy: 0.7675\n",
            "Epoch 2/3\n",
            "68/68 [==============================] - 1806s 27s/step - loss: 0.4185 - accuracy: 0.8166 - val_loss: 0.4566 - val_accuracy: 0.7850\n",
            "Epoch 3/3\n",
            "68/68 [==============================] - 1808s 27s/step - loss: 0.3741 - accuracy: 0.8369 - val_loss: 0.4583 - val_accuracy: 0.7850\n"
          ],
          "name": "stdout"
        }
      ]
    },
    {
      "cell_type": "code",
      "metadata": {
        "colab": {
          "base_uri": "https://localhost:8080/",
          "height": 606
        },
        "id": "KPilZPQmAR6S",
        "outputId": "1be85de3-9a7a-433e-bdfc-72bf6c241266"
      },
      "source": [
        "#################### 2. Show plot of your model training and validation loss during training ####################\n",
        "plt.rcParams['figure.figsize'] = (18, 10)  # set default figure size\n",
        "\n",
        "def plot_graphs(history, metric):\n",
        "    plt.plot(history.history[metric])\n",
        "    plt.plot(history.history['val_'+metric], '')\n",
        "    plt.xlabel(\"Epochs\")\n",
        "    plt.ylabel(metric)\n",
        "    plt.legend([metric, 'val_'+metric])\n",
        "    plt.show()\n",
        "    \n",
        "plot_graphs(history, 'loss')"
      ],
      "execution_count": null,
      "outputs": [
        {
          "output_type": "display_data",
          "data": {
            "image/png": "[encoded data removed]",
            "text/plain": [
              "<Figure size 1296x720 with 1 Axes>"
            ]
          },
          "metadata": {
            "tags": [],
            "needs_background": "light"
          }
        }
      ]
    },
    {
      "cell_type": "code",
      "metadata": {
        "colab": {
          "base_uri": "https://localhost:8080/",
          "height": 606
        },
        "id": "53MdCNY17BP1",
        "outputId": "4b25fa16-d704-4080-c3c2-00926fb0a208"
      },
      "source": [
        "#################### 3. Show a plot of your model training and validation accuracy during training ####################\n",
        "plot_graphs(history, 'accuracy')"
      ],
      "execution_count": null,
      "outputs": [
        {
          "output_type": "display_data",
          "data": {
            "image/png": "[encoded data removed]",
            "text/plain": [
              "<Figure size 1296x720 with 1 Axes>"
            ]
          },
          "metadata": {
            "tags": [],
            "needs_background": "light"
          }
        }
      ]
    },
    {
      "cell_type": "code",
      "metadata": {
        "id": "JvZrJrip75Lp",
        "colab": {
          "base_uri": "https://localhost:8080/"
        },
        "outputId": "8bfb1102-1db5-4ec1-f7fe-45a7c5be13a8"
      },
      "source": [
        "#################### 4. Explain where you might want to stop the model training and why ####################\n",
        "# Train the model (add early stopping)\n",
        "NUM_EPOCHS = 7\n",
        "early_stopping = keras.callbacks.EarlyStopping(monitor='val_accuracy', patience=4, restore_best_weights=True)\n",
        "\n",
        "history_earlystopping = rnn_model.fit(X_train,  y_train, \n",
        "                                      batch_size=BATCH_SIZE, epochs=NUM_EPOCHS,\n",
        "                                      validation_data=(X_dev, y_dev),callbacks=[early_stopping])"
      ],
      "execution_count": null,
      "outputs": [
        {
          "output_type": "stream",
          "text": [
            "Epoch 1/7\n",
            "68/68 [==============================] - 1816s 27s/step - loss: 0.3254 - accuracy: 0.8615 - val_loss: 0.4669 - val_accuracy: 0.8000\n",
            "Epoch 2/7\n",
            "68/68 [==============================] - 1825s 27s/step - loss: 0.2941 - accuracy: 0.8777 - val_loss: 0.4549 - val_accuracy: 0.8150\n",
            "Epoch 3/7\n",
            "68/68 [==============================] - 1836s 27s/step - loss: 0.2596 - accuracy: 0.8948 - val_loss: 0.5752 - val_accuracy: 0.8050\n",
            "Epoch 4/7\n",
            "68/68 [==============================] - 1824s 27s/step - loss: 0.2360 - accuracy: 0.9064 - val_loss: 0.5118 - val_accuracy: 0.8075\n",
            "Epoch 5/7\n",
            "68/68 [==============================] - 1841s 27s/step - loss: 0.2130 - accuracy: 0.9166 - val_loss: 0.4940 - val_accuracy: 0.8325\n",
            "Epoch 6/7\n",
            "68/68 [==============================] - 1836s 27s/step - loss: 0.1917 - accuracy: 0.9262 - val_loss: 0.6513 - val_accuracy: 0.8050\n",
            "Epoch 7/7\n",
            "68/68 [==============================] - 1846s 27s/step - loss: 0.1708 - accuracy: 0.9349 - val_loss: 0.5898 - val_accuracy: 0.8050\n"
          ],
          "name": "stdout"
        }
      ]
    },
    {
      "cell_type": "code",
      "metadata": {
        "id": "W5VFofkr9tiB",
        "colab": {
          "base_uri": "https://localhost:8080/",
          "height": 606
        },
        "outputId": "62ebf1cd-e89e-4b99-8f2c-3ad2553ef1e4"
      },
      "source": [
        "#################### 5. Provide your model's best accuracy on the test set ####################\n",
        "# Plot the graph of model accuracy\n",
        "plot_graphs(history_earlystopping, 'accuracy')"
      ],
      "execution_count": null,
      "outputs": [
        {
          "output_type": "display_data",
          "data": {
            "image/png": "[encoded data removed]",
            "text/plain": [
              "<Figure size 1296x720 with 1 Axes>"
            ]
          },
          "metadata": {
            "tags": [],
            "needs_background": "light"
          }
        }
      ]
    },
    {
      "cell_type": "code",
      "metadata": {
        "id": "iLmRX5iu9vau",
        "colab": {
          "base_uri": "https://localhost:8080/"
        },
        "outputId": "b901c8c8-1928-4fe1-eddf-1e786f49cb92"
      },
      "source": [
        "#################### 6. Perform an error analysis and compare to the models investigated in question 2 ####################\n",
        "# Get the model predictions\n",
        "\n",
        "def predict_sentiment(X, threshold=0.5):\n",
        "    probabilities = rnn_model.predict(X)\n",
        "    predictions = [1 if prob >= threshold else 0 for prob in probabilities]\n",
        "    return predictions\n",
        "\n",
        "# Show predictions on the dev set\n",
        "df_dev_predict = df_dev.copy()\n",
        "df_dev_predict['prediction'] = predict_sentiment(X_dev)\n",
        "df_dev_predict[['sentence', 'label', 'prediction']][:20]\n",
        "\n",
        "model_val_acc = 100 * accuracy_score(df_dev_predict['label'].values, df_dev_predict['prediction'].values)\n",
        "print(\"The model's validation accuracy score is {:.2f}%\".format(model_val_acc))\n",
        "\n",
        "# Plot the confusion matrix for TFIDF Logistic Regression model\n",
        "cm_tfidf = confusion_matrix(y_dev, y_pred_dev)\n",
        "plot_confusion_matrix(cm_tfidf, (\"0\", \"1\"), normalize=True)\n",
        "\n",
        "# Summarise TFIDF Logistic Regression in Classification Report\n",
        "tfidf_report = classification_report(y_dev, y_pred_dev)\n",
        "print(tfidf_report)"
      ],
      "execution_count": null,
      "outputs": [
        {
          "output_type": "stream",
          "text": [
            "The model's validation accuracy score is 80.50%\n"
          ],
          "name": "stdout"
        }
      ]
    },
    {
      "cell_type": "code",
      "metadata": {
        "id": "ws-pYNoAxI-g",
        "colab": {
          "base_uri": "https://localhost:8080/"
        },
        "outputId": "78621274-1392-4e14-e7ed-41d6bb498441"
      },
      "source": [
        "# Validity checks\n",
        "for fn in [\n",
        "    word_tokenize, \n",
        "    remove_stopwords, \n",
        "    is_good,\n",
        "    is_bad,\n",
        "    get_similarity\n",
        "    ]:\n",
        "  assert callable(fn)\n",
        "\n",
        "for answer in [similarity_tfidf, similarity_glove, similarity_elmo, similarity_bert]:\n",
        "  assert isinstance(answer, (np.floating, float)), f\"{answer} is of type {type(answer)}\"\n",
        "\n",
        "for answer in [Q1, Q2, Q3, Q4, Q5, Q6, Q7, Q8, Q9, Q10]:\n",
        "  assert isinstance(answer, str), f\"{answer} is of type {type(answer)}\"\n",
        "\n",
        "print(\"Validity checks passed!\")"
      ],
      "execution_count": null,
      "outputs": [
        {
          "output_type": "stream",
          "text": [
            "Validity checks passed!\n"
          ],
          "name": "stdout"
        }
      ]
    },
    {
      "cell_type": "markdown",
      "metadata": {
        "id": "oq26NkLTmiwt"
      },
      "source": [
        "<hr />"
      ]
    }
  ]
}